{
 "cells": [
  {
   "cell_type": "markdown",
   "metadata": {
    "application/vnd.databricks.v1+cell": {
     "cellMetadata": {
      "byteLimit": 2048000,
      "rowLimit": 10000
     },
     "inputWidgets": {},
     "nuid": "2129be73-74b0-4028-a1af-7debf83ee1d4",
     "showTitle": false,
     "title": ""
    }
   },
   "source": [
    "## Objective\n",
    "We are presented with two datasets containing transactional data pertaining to various products purchased online across various US states. One dataset contains the *order* details and the other has the *customer* information.\n",
    "\n",
    "The fields present in the files are:\n",
    "- **orders.csv**: order_id, order_date, status, item_id, qty_ordered, price, value, discount_amount, total, category, payment_method, cust_id\n",
    "- **customers.json**: City, County, Customer Since, E Mail, Gender, Place Name, Region, State, Zip, Age, cust_id, full_name\n",
    "\n",
    "\n",
    "The objective of the assignment is to create a data lake with three zones \n",
    "- landing \n",
    "- staging and\n",
    "- curated \n",
    "\n",
    "to draw crucial insights about market, products, and customers. \n",
    "\n",
    "This notebook deals with creating the landing zone. The remaining two are attached separately.\n",
    "\n",
    "The databricks public link to this code is https://databricks-prod-cloudfront.cloud.databricks.com/public/4027ec902e239c93eaaa8714f173bcfc/1721482899250574/415017039183874/2654077590604412/latest.html\n"
   ]
  },
  {
   "cell_type": "markdown",
   "metadata": {
    "application/vnd.databricks.v1+cell": {
     "cellMetadata": {
      "byteLimit": 2048000,
      "rowLimit": 10000
     },
     "inputWidgets": {},
     "nuid": "9e35ad97-af15-4a1f-996f-7215357d7d33",
     "showTitle": false,
     "title": ""
    }
   },
   "source": [
    "\n",
    "### 1. Creating a Landing Zone\n",
    "- The following section deals with reading the two input files and storing them on Databricks File System (DBFS)"
   ]
  },
  {
   "cell_type": "code",
   "execution_count": null,
   "metadata": {
    "application/vnd.databricks.v1+cell": {
     "cellMetadata": {
      "byteLimit": 2048000,
      "rowLimit": 10000
     },
     "inputWidgets": {},
     "nuid": "38fd66eb-c624-4b0c-8ada-e691ac67913c",
     "showTitle": false,
     "title": ""
    }
   },
   "outputs": [
    {
     "data": {
      "text/html": [
       "<style scoped>\n",
       "  .table-result-container {\n",
       "    max-height: 300px;\n",
       "    overflow: auto;\n",
       "  }\n",
       "  table, th, td {\n",
       "    border: 1px solid black;\n",
       "    border-collapse: collapse;\n",
       "  }\n",
       "  th, td {\n",
       "    padding: 5px;\n",
       "  }\n",
       "  th {\n",
       "    text-align: left;\n",
       "  }\n",
       "</style><div class='table-result-container'><table class='table-result'><thead style='background-color: white'><tr><th>path</th><th>name</th><th>size</th><th>modificationTime</th></tr></thead><tbody><tr><td>dbfs:/FileStore/tables/bdcc/customers.json</td><td>customers.json</td><td>15815082</td><td>1704873720000</td></tr><tr><td>dbfs:/FileStore/tables/bdcc/orders.csv</td><td>orders.csv</td><td>32138462</td><td>1704874151000</td></tr></tbody></table></div>"
      ]
     },
     "metadata": {
      "application/vnd.databricks.v1+output": {
       "addedWidgets": {},
       "aggData": [],
       "aggError": "",
       "aggOverflow": false,
       "aggSchema": [],
       "aggSeriesLimitReached": false,
       "aggType": "",
       "arguments": {},
       "columnCustomDisplayInfos": {},
       "data": [
        [
         "dbfs:/FileStore/tables/bdcc/customers.json",
         "customers.json",
         15815082,
         1704873720000
        ],
        [
         "dbfs:/FileStore/tables/bdcc/orders.csv",
         "orders.csv",
         32138462,
         1704874151000
        ]
       ],
       "datasetInfos": [],
       "dbfsResultPath": null,
       "isJsonSchema": true,
       "metadata": {
        "isDbfsCommandResult": false
       },
       "overflow": false,
       "plotOptions": {
        "customPlotOptions": {},
        "displayType": "table",
        "pivotAggregation": null,
        "pivotColumns": null,
        "xColumns": null,
        "yColumns": null
       },
       "removedWidgets": [],
       "schema": [
        {
         "metadata": "{}",
         "name": "path",
         "type": "\"string\""
        },
        {
         "metadata": "{}",
         "name": "name",
         "type": "\"string\""
        },
        {
         "metadata": "{}",
         "name": "size",
         "type": "\"long\""
        },
        {
         "metadata": "{}",
         "name": "modificationTime",
         "type": "\"long\""
        }
       ],
       "type": "table"
      }
     },
     "output_type": "display_data"
    }
   ],
   "source": [
    "# Run the following command to view the list of files uploaded on DBFS\n",
    "%fs ls dbfs:/FileStore/tables/bdcc/"
   ]
  },
  {
   "cell_type": "code",
   "execution_count": null,
   "metadata": {
    "application/vnd.databricks.v1+cell": {
     "cellMetadata": {
      "byteLimit": 2048000,
      "rowLimit": 10000
     },
     "inputWidgets": {},
     "nuid": "d1a9f8ab-ae0f-4864-b8c6-ccb95e290ec5",
     "showTitle": false,
     "title": ""
    }
   },
   "outputs": [],
   "source": [
    "spark.conf.set(\"spark.sql.legacy.timeParserPolicy\",\"LEGACY\")"
   ]
  },
  {
   "cell_type": "markdown",
   "metadata": {
    "application/vnd.databricks.v1+cell": {
     "cellMetadata": {
      "byteLimit": 2048000,
      "rowLimit": 10000
     },
     "inputWidgets": {},
     "nuid": "1b89bd98-2e72-4fb6-b9b2-31351936b177",
     "showTitle": false,
     "title": ""
    }
   },
   "source": [
    "### 2. Creating a Staging Zone\n",
    "This section deals with\n",
    "- Creating a staging schema and two tables - orders and customers - within it.\n",
    "- Reading data from the given input files and loading them first into dataframes\n",
    "- Applying column transformations if required\n",
    "- Finally, loading the dataframes into the tables created above"
   ]
  },
  {
   "cell_type": "markdown",
   "metadata": {
    "application/vnd.databricks.v1+cell": {
     "cellMetadata": {
      "byteLimit": 2048000,
      "rowLimit": 10000
     },
     "inputWidgets": {},
     "nuid": "fbd14322-3fb9-4dc1-9651-894c659ca3e0",
     "showTitle": false,
     "title": ""
    }
   },
   "source": [
    "#### 2a) Creating a staging schema and two tables - orders and customers - within it."
   ]
  },
  {
   "cell_type": "code",
   "execution_count": null,
   "metadata": {
    "application/vnd.databricks.v1+cell": {
     "cellMetadata": {
      "byteLimit": 2048000,
      "implicitDf": true,
      "rowLimit": 10000
     },
     "inputWidgets": {},
     "nuid": "9986837b-9c67-4075-a965-4afe8f879170",
     "showTitle": false,
     "title": ""
    }
   },
   "outputs": [
    {
     "data": {
      "text/html": [
       "<style scoped>\n",
       "  .table-result-container {\n",
       "    max-height: 300px;\n",
       "    overflow: auto;\n",
       "  }\n",
       "  table, th, td {\n",
       "    border: 1px solid black;\n",
       "    border-collapse: collapse;\n",
       "  }\n",
       "  th, td {\n",
       "    padding: 5px;\n",
       "  }\n",
       "  th {\n",
       "    text-align: left;\n",
       "  }\n",
       "</style><div class='table-result-container'><table class='table-result'><thead style='background-color: white'><tr></tr></thead><tbody></tbody></table></div>"
      ]
     },
     "metadata": {
      "application/vnd.databricks.v1+output": {
       "addedWidgets": {},
       "aggData": [],
       "aggError": "",
       "aggOverflow": false,
       "aggSchema": [],
       "aggSeriesLimitReached": false,
       "aggType": "",
       "arguments": {},
       "columnCustomDisplayInfos": {},
       "data": [],
       "datasetInfos": [],
       "dbfsResultPath": null,
       "isJsonSchema": true,
       "metadata": {},
       "overflow": false,
       "plotOptions": {
        "customPlotOptions": {},
        "displayType": "table",
        "pivotAggregation": null,
        "pivotColumns": null,
        "xColumns": null,
        "yColumns": null
       },
       "removedWidgets": [],
       "schema": [],
       "type": "table"
      }
     },
     "output_type": "display_data"
    }
   ],
   "source": [
    "%sql\n",
    "\n",
    "-- Run the following command to create a new database called staging. We then use this database to load the orders and customer information in tables.\n",
    "\n",
    "DROP DATABASE IF EXISTS staging CASCADE;\n",
    "\n",
    "CREATE DATABASE staging;"
   ]
  },
  {
   "cell_type": "code",
   "execution_count": null,
   "metadata": {
    "application/vnd.databricks.v1+cell": {
     "cellMetadata": {
      "byteLimit": 2048000,
      "implicitDf": true,
      "rowLimit": 10000
     },
     "inputWidgets": {},
     "nuid": "23e7a820-e497-4a53-889f-1544a6829ff1",
     "showTitle": false,
     "title": ""
    }
   },
   "outputs": [
    {
     "data": {
      "text/html": [
       "<style scoped>\n",
       "  .table-result-container {\n",
       "    max-height: 300px;\n",
       "    overflow: auto;\n",
       "  }\n",
       "  table, th, td {\n",
       "    border: 1px solid black;\n",
       "    border-collapse: collapse;\n",
       "  }\n",
       "  th, td {\n",
       "    padding: 5px;\n",
       "  }\n",
       "  th {\n",
       "    text-align: left;\n",
       "  }\n",
       "</style><div class='table-result-container'><table class='table-result'><thead style='background-color: white'><tr></tr></thead><tbody></tbody></table></div>"
      ]
     },
     "metadata": {
      "application/vnd.databricks.v1+output": {
       "addedWidgets": {},
       "aggData": [],
       "aggError": "",
       "aggOverflow": false,
       "aggSchema": [],
       "aggSeriesLimitReached": false,
       "aggType": "",
       "arguments": {},
       "columnCustomDisplayInfos": {},
       "data": [],
       "datasetInfos": [],
       "dbfsResultPath": null,
       "isJsonSchema": true,
       "metadata": {},
       "overflow": false,
       "plotOptions": {
        "customPlotOptions": {},
        "displayType": "table",
        "pivotAggregation": null,
        "pivotColumns": null,
        "xColumns": null,
        "yColumns": null
       },
       "removedWidgets": [],
       "schema": [],
       "type": "table"
      }
     },
     "output_type": "display_data"
    }
   ],
   "source": [
    "%sql\n",
    "\n",
    "-- Run the following command to drop any existing tables by the name \"orders\" and \"customers\".\n",
    "\n",
    "DROP TABLE IF EXISTS staging.orders;\n",
    "DROP TABLE IF EXISTS staging.customers;"
   ]
  },
  {
   "cell_type": "markdown",
   "metadata": {
    "application/vnd.databricks.v1+cell": {
     "cellMetadata": {
      "byteLimit": 2048000,
      "rowLimit": 10000
     },
     "inputWidgets": {},
     "nuid": "c50a9410-3467-4889-be34-b1010577c7a6",
     "showTitle": false,
     "title": ""
    }
   },
   "source": [
    "### 2b) Ingest Base Partition\n",
    "The following section deals with \n",
    "- Defining the column types of the input data and applying transformations if needed.\n",
    "- Loading the data into dataframes."
   ]
  },
  {
   "cell_type": "markdown",
   "metadata": {
    "application/vnd.databricks.v1+cell": {
     "cellMetadata": {
      "byteLimit": 2048000,
      "rowLimit": 10000
     },
     "inputWidgets": {},
     "nuid": "a9e92c0f-a34e-4abd-b6b3-0401a7754e9a",
     "showTitle": false,
     "title": ""
    }
   },
   "source": [
    "#### Reading the orders.csv file and loading it into a dataframe"
   ]
  },
  {
   "cell_type": "code",
   "execution_count": null,
   "metadata": {
    "application/vnd.databricks.v1+cell": {
     "cellMetadata": {
      "byteLimit": 2048000,
      "rowLimit": 10000
     },
     "inputWidgets": {},
     "nuid": "624b9145-dc04-4e4c-b6bf-1e418c4585b5",
     "showTitle": false,
     "title": ""
    }
   },
   "outputs": [],
   "source": [
    "from pyspark.sql.types import *\n",
    "\n",
    "# We first load the orders information from the orders.csv file into a dataframe called orders_df.\n",
    "\n",
    "# Define the custom shchema\n",
    "columns = StructType([StructField(\"OrderID\", IntegerType(), False),\n",
    "                     StructField(\"Order_Date\", DateType(), False),\n",
    "                     StructField(\"Status\", StringType(), False),\n",
    "                     StructField(\"ItemID\", FloatType(), False), \n",
    "                     StructField(\"Quantity_Ordered\", FloatType(), False),\n",
    "                     StructField(\"Price\", FloatType(), False),\n",
    "                     StructField(\"Value\", FloatType(), False),\n",
    "                     StructField(\"Discount_Amount\", FloatType(), False),\n",
    "                     StructField(\"Total\", FloatType(), False),\n",
    "                     StructField(\"Category\", StringType(), False),\n",
    "                     StructField(\"Payment_Method\", StringType(), False),\n",
    "                     StructField(\"CustID\", StringType(), False),\n",
    "                     StructField(\"Year\", IntegerType(), False),\n",
    "                     StructField(\"Month_Year\", StringType(), False)\n",
    "                     ])\n",
    "                     \n",
    "  \n",
    "# Read from landing zone into dataframe                     \n",
    "orders_df = sqlContext.read.csv(\"/FileStore/tables/bdcc/orders.csv\", \n",
    "                                header = True, \n",
    "                                schema = StructType(columns) \n",
    "                                )"
   ]
  },
  {
   "cell_type": "code",
   "execution_count": null,
   "metadata": {
    "application/vnd.databricks.v1+cell": {
     "cellMetadata": {
      "byteLimit": 2048000,
      "rowLimit": 10000
     },
     "inputWidgets": {},
     "nuid": "8de89779-1e6c-4d10-a435-27b772f738e2",
     "showTitle": false,
     "title": ""
    }
   },
   "outputs": [
    {
     "name": "stdout",
     "output_type": "stream",
     "text": [
      "+---------+----------+--------------+------+----------------+-----+------+---------------+------+-----------------+--------------+------+----+----------+\n",
      "|  OrderID|Order_Date|        Status|ItemID|Quantity_Ordered|Price| Value|Discount_Amount| Total|         Category|Payment_Method|CustID|Year|Month_Year|\n",
      "+---------+----------+--------------+------+----------------+-----+------+---------------+------+-----------------+--------------+------+----+----------+\n",
      "|100354678|2020-10-01|      received|574772|              21| 89.9|1798.0|            0.0|1798.0|    Men's Fashion|           cod| 60124|2020|  Oct-2020|\n",
      "|100354678|2020-10-01|      received|574774|              11| 19.0| 190.0|            0.0| 190.0|    Men's Fashion|           cod| 60124|2020|  Oct-2020|\n",
      "|100354680|2020-10-01|      complete|574777|               9|149.9|1199.2|            0.0|1199.2|    Men's Fashion|           cod| 60124|2020|  Oct-2020|\n",
      "|100354680|2020-10-01|      complete|574779|               9| 79.9| 639.2|            0.0| 639.2|    Men's Fashion|           cod| 60124|2020|  Oct-2020|\n",
      "|100367357|2020-11-13|      received|595185|               2| 99.9|  99.9|            0.0|  99.9|    Men's Fashion|           cod| 60124|2020|  Nov-2020|\n",
      "|100367357|2020-11-13|      received|595186|               2| 39.9|  39.9|            0.0|  39.9|    Men's Fashion|           cod| 60124|2020|  Nov-2020|\n",
      "|100367360|2020-11-13|order_refunded|595192|               2| 47.6|  47.6|            0.0|  47.6|Mobiles & Tablets|           cod| 60124|2020|  Nov-2020|\n",
      "|100354677|2020-10-01|      canceled|574769|               2| 49.0|  49.0|            0.0|  49.0|Mobiles & Tablets|       Payaxis| 42485|2020|  Oct-2020|\n",
      "|100354677|2020-10-01|      canceled|574770|               2|135.0| 135.0|            0.0| 135.0|        Computing|       Payaxis| 42485|2020|  Oct-2020|\n",
      "|100354677|2020-10-01|      canceled|574771|               2|549.9| 549.9|            0.0| 549.9|       Appliances|       Payaxis| 42485|2020|  Oct-2020|\n",
      "+---------+----------+--------------+------+----------------+-----+------+---------------+------+-----------------+--------------+------+----+----------+\n",
      "only showing top 10 rows\n",
      "\n"
     ]
    }
   ],
   "source": [
    "#Convert the following columns from float to int\n",
    "\n",
    "orders_df = orders_df.withColumn(\"Quantity_Ordered\", orders_df[\"Quantity_Ordered\"].cast(IntegerType()))\n",
    "orders_df = orders_df.withColumn(\"ItemID\", orders_df[\"ItemID\"].cast(IntegerType()))\n",
    "orders_df = orders_df.withColumn(\"CustID\", orders_df[\"CustID\"].cast(IntegerType()))\n",
    "\n",
    "#Display the first ten records\n",
    "orders_df.show(10)"
   ]
  },
  {
   "cell_type": "code",
   "execution_count": null,
   "metadata": {
    "application/vnd.databricks.v1+cell": {
     "cellMetadata": {
      "byteLimit": 2048000,
      "rowLimit": 10000
     },
     "inputWidgets": {},
     "nuid": "4970b94f-3fb4-4192-af1b-2bd0548e672f",
     "showTitle": false,
     "title": ""
    }
   },
   "outputs": [
    {
     "name": "stdout",
     "output_type": "stream",
     "text": [
      "root\n",
      " |-- OrderID: integer (nullable = true)\n",
      " |-- Order_Date: date (nullable = true)\n",
      " |-- Status: string (nullable = true)\n",
      " |-- ItemID: integer (nullable = true)\n",
      " |-- Quantity_Ordered: integer (nullable = true)\n",
      " |-- Price: float (nullable = true)\n",
      " |-- Value: float (nullable = true)\n",
      " |-- Discount_Amount: float (nullable = true)\n",
      " |-- Total: float (nullable = true)\n",
      " |-- Category: string (nullable = true)\n",
      " |-- Payment_Method: string (nullable = true)\n",
      " |-- CustID: integer (nullable = true)\n",
      " |-- Year: integer (nullable = true)\n",
      " |-- Month_Year: string (nullable = true)\n",
      "\n"
     ]
    }
   ],
   "source": [
    "orders_df.printSchema()"
   ]
  },
  {
   "cell_type": "markdown",
   "metadata": {
    "application/vnd.databricks.v1+cell": {
     "cellMetadata": {
      "byteLimit": 2048000,
      "rowLimit": 10000
     },
     "inputWidgets": {},
     "nuid": "9b34d43c-42d1-4ebf-af88-5ec2af45bb79",
     "showTitle": false,
     "title": ""
    }
   },
   "source": [
    "#### Reading the customers.json file and loading it into a dataframe by following similar steps"
   ]
  },
  {
   "cell_type": "code",
   "execution_count": null,
   "metadata": {
    "application/vnd.databricks.v1+cell": {
     "cellMetadata": {
      "byteLimit": 2048000,
      "rowLimit": 10000
     },
     "inputWidgets": {},
     "nuid": "5298d32a-a034-4b44-bfea-048c528deac4",
     "showTitle": false,
     "title": ""
    }
   },
   "outputs": [
    {
     "name": "stdout",
     "output_type": "stream",
     "text": [
      "+-----------+-----------+--------------+--------------------+------+-----------+---------+-----+-----+----+-------+-----------------+\n",
      "|       City|     County|Customer Since|              E Mail|Gender| Place Name|   Region|State|  Zip| age|cust_id|        full_name|\n",
      "+-----------+-----------+--------------+--------------------+------+-----------+---------+-----+-----+----+-------+-----------------+\n",
      "|     Vinson|     Harmon|     8/22/2006|jani.titus@gmail.com|     F|     Vinson|    South|   OK|73571|43.0|60124.0|      Titus, Jani|\n",
      "|     Graham|   Bradford|      2/4/1981| lee.eaker@gmail.com|     M|     Graham|    South|   FL|32042|28.0|42485.0|       Eaker, Lee|\n",
      "|Grand Forks|Grand Forks|     6/27/2010|jason.simoneau@gm...|     M|Grand Forks|  Midwest|   ND|58201|65.0|53620.0|  Simoneau, Jason|\n",
      "|Laupahoehoe|     Hawaii|      4/3/1992|grover.bayless@ya...|     M|Laupahoehoe|     West|   HI|96764|33.0|56836.0|  Bayless, Grover|\n",
      "|     Glendo|     Platte|     6/21/2015|albertina.bensen@...|     F|     Glendo|     West|   WY|82213|73.0|60125.0|Bensen, Albertina|\n",
      "| Farmington|     Oconee|    10/19/2016|drema.galle@gmail...|     F| Farmington|    South|   GA|30638|64.0|51286.0|     Galle, Drema|\n",
      "|  Nashville|   Davidson|     7/10/2011|sheryll.newsome@g...|     F|  Nashville|    South|   TN|37245|75.0|60126.0| Newsome, Sheryll|\n",
      "|    Warwick|       Kent|     5/11/1995|bernard.dewald@ho...|     M|    Warwick|Northeast|   RI| 2889|52.0|60127.0|  Dewald, Bernard|\n",
      "|   Sarasota|   Sarasota|     8/25/1998|hilario.brammer@h...|     M|   Sarasota|    South|   FL|34277|31.0|60128.0| Brammer, Hilario|\n",
      "| Brownstown|    Fayette|     3/31/2017|elizbeth.raminez@...|     F| Brownstown|  Midwest|   IL|62418|71.0|56449.0|Raminez, Elizbeth|\n",
      "+-----------+-----------+--------------+--------------------+------+-----------+---------+-----+-----+----+-------+-----------------+\n",
      "only showing top 10 rows\n",
      "\n"
     ]
    }
   ],
   "source": [
    "\n",
    "#First, load the data from the input customers.json into a dataframe called customers_df\n",
    "\n",
    "# Define custom schema\n",
    "headers = StructType([\n",
    "      StructField(\"City\",StringType(),True),\n",
    "      StructField(\"County\",StringType(),True),\n",
    "      StructField(\"Customer Since\",StringType(),True),\n",
    "      StructField(\"E Mail\",StringType(),False),\n",
    "      StructField(\"Gender\",StringType(),True),\n",
    "      StructField(\"Place Name\",StringType(),True),\n",
    "      StructField(\"Region\",StringType(),True),\n",
    "      StructField(\"State\",StringType(),True),\n",
    "      StructField(\"Zip\",StringType(),True),\n",
    "      StructField(\"age\",StringType(),True),\n",
    "      StructField(\"cust_id\",StringType(),True),\n",
    "      StructField(\"full_name\",StringType(),True)\n",
    "      ])\n",
    "\n",
    "customers_df = spark.read.schema(headers) \\\n",
    "                         .json(\"/FileStore/tables/bdcc/customers.json\")\n",
    "\n",
    "#Display the first ten records\n",
    "customers_df.show(10)"
   ]
  },
  {
   "cell_type": "code",
   "execution_count": null,
   "metadata": {
    "application/vnd.databricks.v1+cell": {
     "cellMetadata": {
      "byteLimit": 2048000,
      "rowLimit": 10000
     },
     "inputWidgets": {},
     "nuid": "5d1f6fe5-b121-42fc-a5c8-a0b75fff16ed",
     "showTitle": false,
     "title": ""
    }
   },
   "outputs": [
    {
     "name": "stdout",
     "output_type": "stream",
     "text": [
      "+-----------+-----------+-------------+--------------------+------+-----------+-------+-----+-----+---+------+-----------------+\n",
      "|       City|     County|CustomerSince|               Email|Gender|  PlaceName| Region|State|  Zip|Age|CustID|         FullName|\n",
      "+-----------+-----------+-------------+--------------------+------+-----------+-------+-----+-----+---+------+-----------------+\n",
      "|     Vinson|     Harmon|   2006-08-22|jani.titus@gmail.com|     F|     Vinson|  South|   OK|73571| 43| 60124|      Titus, Jani|\n",
      "|     Graham|   Bradford|   1981-02-04| lee.eaker@gmail.com|     M|     Graham|  South|   FL|32042| 28| 42485|       Eaker, Lee|\n",
      "|Grand Forks|Grand Forks|   2010-06-27|jason.simoneau@gm...|     M|Grand Forks|Midwest|   ND|58201| 65| 53620|  Simoneau, Jason|\n",
      "|Laupahoehoe|     Hawaii|   1992-04-03|grover.bayless@ya...|     M|Laupahoehoe|   West|   HI|96764| 33| 56836|  Bayless, Grover|\n",
      "|     Glendo|     Platte|   2015-06-21|albertina.bensen@...|     F|     Glendo|   West|   WY|82213| 73| 60125|Bensen, Albertina|\n",
      "+-----------+-----------+-------------+--------------------+------+-----------+-------+-----+-----+---+------+-----------------+\n",
      "only showing top 5 rows\n",
      "\n"
     ]
    }
   ],
   "source": [
    "from pyspark.sql.functions import month, year, to_date, col\n",
    "\n",
    "#Apply the following column transformations\n",
    "customers_df = customers_df.withColumn(\"Customer Since\", to_date(col(\"Customer Since\"), \"MM/dd/yy\"))\n",
    "customers_df = customers_df.withColumn(\"age\", customers_df[\"age\"].cast(IntegerType()))\n",
    "customers_df = customers_df.withColumn(\"cust_id\", customers_df[\"cust_id\"].cast(IntegerType()))\n",
    "\n",
    "#Rename the columns so as to remove spaces between words\n",
    "customers_df = customers_df.withColumnRenamed(\"Customer Since\", \"CustomerSince\")\\\n",
    "                           .withColumnRenamed(\"E Mail\", \"Email\")\\\n",
    "                           .withColumnRenamed(\"Place Name\", \"PlaceName\")\\\n",
    "                           .withColumnRenamed(\"age\", \"Age\")\\\n",
    "                           .withColumnRenamed(\"cust_id\", \"CustID\")\\\n",
    "                           .withColumnRenamed(\"full_name\", \"FullName\")\n",
    "\n",
    "customers_df.show(5)"
   ]
  },
  {
   "cell_type": "markdown",
   "metadata": {
    "application/vnd.databricks.v1+cell": {
     "cellMetadata": {
      "byteLimit": 2048000,
      "rowLimit": 10000
     },
     "inputWidgets": {},
     "nuid": "99bb6fd4-e6a4-412d-9e4a-5ddc57232186",
     "showTitle": false,
     "title": ""
    }
   },
   "source": [
    "### 2c) Loading data into tables\n",
    "- Now that we have created two dataframes, the next step is to load this information into two tables\n",
    "- The orders_df dataframe will be loaded into the staging.orders table and the customers_df will be loaded into the staging.customers table"
   ]
  },
  {
   "cell_type": "code",
   "execution_count": null,
   "metadata": {
    "application/vnd.databricks.v1+cell": {
     "cellMetadata": {
      "byteLimit": 2048000,
      "rowLimit": 10000
     },
     "inputWidgets": {},
     "nuid": "ddd487b7-b2a6-4207-860b-f92b91de237b",
     "showTitle": false,
     "title": ""
    }
   },
   "outputs": [],
   "source": [
    "# Run the following command to create a new table \"orders\" in the staging schema.\n",
    "\n",
    "orders_df.write.format(\"parquet\").partitionBy(\"Year\").saveAsTable(\"staging.orders\")"
   ]
  },
  {
   "cell_type": "code",
   "execution_count": null,
   "metadata": {
    "application/vnd.databricks.v1+cell": {
     "cellMetadata": {
      "byteLimit": 2048000,
      "rowLimit": 10000
     },
     "inputWidgets": {},
     "nuid": "a72fa768-9bf7-4bbf-9afc-f1b685e023f6",
     "showTitle": false,
     "title": ""
    }
   },
   "outputs": [
    {
     "data": {
      "text/html": [
       "<style scoped>\n",
       "  .table-result-container {\n",
       "    max-height: 300px;\n",
       "    overflow: auto;\n",
       "  }\n",
       "  table, th, td {\n",
       "    border: 1px solid black;\n",
       "    border-collapse: collapse;\n",
       "  }\n",
       "  th, td {\n",
       "    padding: 5px;\n",
       "  }\n",
       "  th {\n",
       "    text-align: left;\n",
       "  }\n",
       "</style><div class='table-result-container'><table class='table-result'><thead style='background-color: white'><tr><th>path</th><th>name</th><th>size</th><th>modificationTime</th></tr></thead><tbody><tr><td>dbfs:/user/hive/warehouse/staging.db/orders/Year=2020/</td><td>Year=2020/</td><td>0</td><td>0</td></tr><tr><td>dbfs:/user/hive/warehouse/staging.db/orders/Year=2021/</td><td>Year=2021/</td><td>0</td><td>0</td></tr><tr><td>dbfs:/user/hive/warehouse/staging.db/orders/_SUCCESS</td><td>_SUCCESS</td><td>0</td><td>1705774476000</td></tr></tbody></table></div>"
      ]
     },
     "metadata": {
      "application/vnd.databricks.v1+output": {
       "addedWidgets": {},
       "aggData": [],
       "aggError": "",
       "aggOverflow": false,
       "aggSchema": [],
       "aggSeriesLimitReached": false,
       "aggType": "",
       "arguments": {},
       "columnCustomDisplayInfos": {},
       "data": [
        [
         "dbfs:/user/hive/warehouse/staging.db/orders/Year=2020/",
         "Year=2020/",
         0,
         0
        ],
        [
         "dbfs:/user/hive/warehouse/staging.db/orders/Year=2021/",
         "Year=2021/",
         0,
         0
        ],
        [
         "dbfs:/user/hive/warehouse/staging.db/orders/_SUCCESS",
         "_SUCCESS",
         0,
         1705774476000
        ]
       ],
       "datasetInfos": [],
       "dbfsResultPath": null,
       "isJsonSchema": true,
       "metadata": {
        "isDbfsCommandResult": false
       },
       "overflow": false,
       "plotOptions": {
        "customPlotOptions": {},
        "displayType": "table",
        "pivotAggregation": null,
        "pivotColumns": null,
        "xColumns": null,
        "yColumns": null
       },
       "removedWidgets": [],
       "schema": [
        {
         "metadata": "{}",
         "name": "path",
         "type": "\"string\""
        },
        {
         "metadata": "{}",
         "name": "name",
         "type": "\"string\""
        },
        {
         "metadata": "{}",
         "name": "size",
         "type": "\"long\""
        },
        {
         "metadata": "{}",
         "name": "modificationTime",
         "type": "\"long\""
        }
       ],
       "type": "table"
      }
     },
     "output_type": "display_data"
    }
   ],
   "source": [
    "%fs ls dbfs:/user/hive/warehouse/staging.db/orders"
   ]
  },
  {
   "cell_type": "code",
   "execution_count": null,
   "metadata": {
    "application/vnd.databricks.v1+cell": {
     "cellMetadata": {
      "byteLimit": 2048000,
      "implicitDf": true,
      "rowLimit": 10000
     },
     "inputWidgets": {},
     "nuid": "7ee4b32d-49fa-4ebb-8564-7e56da765df2",
     "showTitle": false,
     "title": ""
    }
   },
   "outputs": [
    {
     "data": {
      "text/html": [
       "<style scoped>\n",
       "  .table-result-container {\n",
       "    max-height: 300px;\n",
       "    overflow: auto;\n",
       "  }\n",
       "  table, th, td {\n",
       "    border: 1px solid black;\n",
       "    border-collapse: collapse;\n",
       "  }\n",
       "  th, td {\n",
       "    padding: 5px;\n",
       "  }\n",
       "  th {\n",
       "    text-align: left;\n",
       "  }\n",
       "</style><div class='table-result-container'><table class='table-result'><thead style='background-color: white'><tr><th>partition</th></tr></thead><tbody><tr><td>Year=2020</td></tr><tr><td>Year=2021</td></tr></tbody></table></div>"
      ]
     },
     "metadata": {
      "application/vnd.databricks.v1+output": {
       "addedWidgets": {},
       "aggData": [],
       "aggError": "",
       "aggOverflow": false,
       "aggSchema": [],
       "aggSeriesLimitReached": false,
       "aggType": "",
       "arguments": {},
       "columnCustomDisplayInfos": {},
       "data": [
        [
         "Year=2020"
        ],
        [
         "Year=2021"
        ]
       ],
       "datasetInfos": [],
       "dbfsResultPath": null,
       "isJsonSchema": true,
       "metadata": {},
       "overflow": false,
       "plotOptions": {
        "customPlotOptions": {},
        "displayType": "table",
        "pivotAggregation": null,
        "pivotColumns": null,
        "xColumns": null,
        "yColumns": null
       },
       "removedWidgets": [],
       "schema": [
        {
         "metadata": "{}",
         "name": "partition",
         "type": "\"string\""
        }
       ],
       "type": "table"
      }
     },
     "output_type": "display_data"
    }
   ],
   "source": [
    "%sql\n",
    "\n",
    "-- Run the following command to show the partitions created in the orders table\n",
    "\n",
    "SHOW PARTITIONS staging.orders;"
   ]
  },
  {
   "cell_type": "code",
   "execution_count": null,
   "metadata": {
    "application/vnd.databricks.v1+cell": {
     "cellMetadata": {
      "byteLimit": 2048000,
      "rowLimit": 10000
     },
     "inputWidgets": {},
     "nuid": "7f4e6e0d-c2a7-4530-9bfd-86c4315454c1",
     "showTitle": false,
     "title": ""
    }
   },
   "outputs": [],
   "source": [
    "#Run the following command to load the customers table in the staging database\n",
    "\n",
    "customers_df.write.saveAsTable(\"staging.customers\")"
   ]
  },
  {
   "cell_type": "code",
   "execution_count": null,
   "metadata": {
    "application/vnd.databricks.v1+cell": {
     "cellMetadata": {
      "byteLimit": 2048000,
      "implicitDf": true,
      "rowLimit": 10000
     },
     "inputWidgets": {},
     "nuid": "1dcc5b01-ac84-4d32-b7e4-69045a832017",
     "showTitle": false,
     "title": ""
    }
   },
   "outputs": [
    {
     "data": {
      "text/html": [
       "<style scoped>\n",
       "  .table-result-container {\n",
       "    max-height: 300px;\n",
       "    overflow: auto;\n",
       "  }\n",
       "  table, th, td {\n",
       "    border: 1px solid black;\n",
       "    border-collapse: collapse;\n",
       "  }\n",
       "  th, td {\n",
       "    padding: 5px;\n",
       "  }\n",
       "  th {\n",
       "    text-align: left;\n",
       "  }\n",
       "</style><div class='table-result-container'><table class='table-result'><thead style='background-color: white'><tr><th>City</th><th>County</th><th>CustomerSince</th><th>Email</th><th>Gender</th><th>PlaceName</th><th>Region</th><th>State</th><th>Zip</th><th>Age</th><th>CustID</th><th>FullName</th></tr></thead><tbody><tr><td>Vinson</td><td>Harmon</td><td>2006-08-22</td><td>jani.titus@gmail.com</td><td>F</td><td>Vinson</td><td>South</td><td>OK</td><td>73571</td><td>43</td><td>60124</td><td>Titus, Jani</td></tr><tr><td>Graham</td><td>Bradford</td><td>1981-02-04</td><td>lee.eaker@gmail.com</td><td>M</td><td>Graham</td><td>South</td><td>FL</td><td>32042</td><td>28</td><td>42485</td><td>Eaker, Lee</td></tr><tr><td>Grand Forks</td><td>Grand Forks</td><td>2010-06-27</td><td>jason.simoneau@gmail.com</td><td>M</td><td>Grand Forks</td><td>Midwest</td><td>ND</td><td>58201</td><td>65</td><td>53620</td><td>Simoneau, Jason</td></tr><tr><td>Laupahoehoe</td><td>Hawaii</td><td>1992-04-03</td><td>grover.bayless@yahoo.com</td><td>M</td><td>Laupahoehoe</td><td>West</td><td>HI</td><td>96764</td><td>33</td><td>56836</td><td>Bayless, Grover</td></tr><tr><td>Glendo</td><td>Platte</td><td>2015-06-21</td><td>albertina.bensen@gmail.com</td><td>F</td><td>Glendo</td><td>West</td><td>WY</td><td>82213</td><td>73</td><td>60125</td><td>Bensen, Albertina</td></tr><tr><td>Farmington</td><td>Oconee</td><td>2016-10-19</td><td>drema.galle@gmail.com</td><td>F</td><td>Farmington</td><td>South</td><td>GA</td><td>30638</td><td>64</td><td>51286</td><td>Galle, Drema</td></tr><tr><td>Nashville</td><td>Davidson</td><td>2011-07-10</td><td>sheryll.newsome@gmail.com</td><td>F</td><td>Nashville</td><td>South</td><td>TN</td><td>37245</td><td>75</td><td>60126</td><td>Newsome, Sheryll</td></tr><tr><td>Warwick</td><td>Kent</td><td>1995-05-11</td><td>bernard.dewald@hotmail.co.uk</td><td>M</td><td>Warwick</td><td>Northeast</td><td>RI</td><td>2889</td><td>52</td><td>60127</td><td>Dewald, Bernard</td></tr><tr><td>Sarasota</td><td>Sarasota</td><td>1998-08-25</td><td>hilario.brammer@hotmail.com</td><td>M</td><td>Sarasota</td><td>South</td><td>FL</td><td>34277</td><td>31</td><td>60128</td><td>Brammer, Hilario</td></tr><tr><td>Brownstown</td><td>Fayette</td><td>2017-03-31</td><td>elizbeth.raminez@gmail.com</td><td>F</td><td>Brownstown</td><td>Midwest</td><td>IL</td><td>62418</td><td>71</td><td>56449</td><td>Raminez, Elizbeth</td></tr></tbody></table></div>"
      ]
     },
     "metadata": {
      "application/vnd.databricks.v1+output": {
       "addedWidgets": {},
       "aggData": [],
       "aggError": "",
       "aggOverflow": false,
       "aggSchema": [],
       "aggSeriesLimitReached": false,
       "aggType": "",
       "arguments": {},
       "columnCustomDisplayInfos": {},
       "data": [
        [
         "Vinson",
         "Harmon",
         "2006-08-22",
         "jani.titus@gmail.com",
         "F",
         "Vinson",
         "South",
         "OK",
         "73571",
         43,
         60124,
         "Titus, Jani"
        ],
        [
         "Graham",
         "Bradford",
         "1981-02-04",
         "lee.eaker@gmail.com",
         "M",
         "Graham",
         "South",
         "FL",
         "32042",
         28,
         42485,
         "Eaker, Lee"
        ],
        [
         "Grand Forks",
         "Grand Forks",
         "2010-06-27",
         "jason.simoneau@gmail.com",
         "M",
         "Grand Forks",
         "Midwest",
         "ND",
         "58201",
         65,
         53620,
         "Simoneau, Jason"
        ],
        [
         "Laupahoehoe",
         "Hawaii",
         "1992-04-03",
         "grover.bayless@yahoo.com",
         "M",
         "Laupahoehoe",
         "West",
         "HI",
         "96764",
         33,
         56836,
         "Bayless, Grover"
        ],
        [
         "Glendo",
         "Platte",
         "2015-06-21",
         "albertina.bensen@gmail.com",
         "F",
         "Glendo",
         "West",
         "WY",
         "82213",
         73,
         60125,
         "Bensen, Albertina"
        ],
        [
         "Farmington",
         "Oconee",
         "2016-10-19",
         "drema.galle@gmail.com",
         "F",
         "Farmington",
         "South",
         "GA",
         "30638",
         64,
         51286,
         "Galle, Drema"
        ],
        [
         "Nashville",
         "Davidson",
         "2011-07-10",
         "sheryll.newsome@gmail.com",
         "F",
         "Nashville",
         "South",
         "TN",
         "37245",
         75,
         60126,
         "Newsome, Sheryll"
        ],
        [
         "Warwick",
         "Kent",
         "1995-05-11",
         "bernard.dewald@hotmail.co.uk",
         "M",
         "Warwick",
         "Northeast",
         "RI",
         "2889",
         52,
         60127,
         "Dewald, Bernard"
        ],
        [
         "Sarasota",
         "Sarasota",
         "1998-08-25",
         "hilario.brammer@hotmail.com",
         "M",
         "Sarasota",
         "South",
         "FL",
         "34277",
         31,
         60128,
         "Brammer, Hilario"
        ],
        [
         "Brownstown",
         "Fayette",
         "2017-03-31",
         "elizbeth.raminez@gmail.com",
         "F",
         "Brownstown",
         "Midwest",
         "IL",
         "62418",
         71,
         56449,
         "Raminez, Elizbeth"
        ]
       ],
       "datasetInfos": [],
       "dbfsResultPath": null,
       "isJsonSchema": true,
       "metadata": {},
       "overflow": false,
       "plotOptions": {
        "customPlotOptions": {},
        "displayType": "table",
        "pivotAggregation": null,
        "pivotColumns": null,
        "xColumns": null,
        "yColumns": null
       },
       "removedWidgets": [],
       "schema": [
        {
         "metadata": "{}",
         "name": "City",
         "type": "\"string\""
        },
        {
         "metadata": "{}",
         "name": "County",
         "type": "\"string\""
        },
        {
         "metadata": "{}",
         "name": "CustomerSince",
         "type": "\"date\""
        },
        {
         "metadata": "{}",
         "name": "Email",
         "type": "\"string\""
        },
        {
         "metadata": "{}",
         "name": "Gender",
         "type": "\"string\""
        },
        {
         "metadata": "{}",
         "name": "PlaceName",
         "type": "\"string\""
        },
        {
         "metadata": "{}",
         "name": "Region",
         "type": "\"string\""
        },
        {
         "metadata": "{}",
         "name": "State",
         "type": "\"string\""
        },
        {
         "metadata": "{}",
         "name": "Zip",
         "type": "\"string\""
        },
        {
         "metadata": "{}",
         "name": "Age",
         "type": "\"integer\""
        },
        {
         "metadata": "{}",
         "name": "CustID",
         "type": "\"integer\""
        },
        {
         "metadata": "{}",
         "name": "FullName",
         "type": "\"string\""
        }
       ],
       "type": "table"
      }
     },
     "output_type": "display_data"
    }
   ],
   "source": [
    "%sql\n",
    "\n",
    "-- Query the top 10 records in the customers table\n",
    "\n",
    "SELECT * \n",
    "FROM staging.customers \n",
    "limit 10;"
   ]
  }
 ],
 "metadata": {
  "application/vnd.databricks.v1+notebook": {
   "dashboards": [],
   "language": "python",
   "notebookMetadata": {
    "mostRecentlyExecutedCommandWithImplicitDF": {
     "commandId": 2364135101479103,
     "dataframes": [
      "_sqldf"
     ]
    },
    "pythonIndentUnit": 4
   },
   "notebookName": "Group5_Landing_to_Staging",
   "widgets": {}
  },
  "language_info": {
   "name": "python"
  }
 },
 "nbformat": 4,
 "nbformat_minor": 0
}
