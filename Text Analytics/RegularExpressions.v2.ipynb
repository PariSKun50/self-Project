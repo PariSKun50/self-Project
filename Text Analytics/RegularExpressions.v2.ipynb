{
 "cells": [
  {
   "cell_type": "markdown",
   "metadata": {},
   "source": [
    "## Regular Expressions\n",
    "\n",
    "Regular expressions are text matching patterns described with a formal syntax. You'll often hear regular expressions referred to as 'regex' or 'regexp' in conversation. Regular expressions can include a variety of rules, fro finding repetition, to text-matching, and much more. As you advance in Python you'll see that a lot of your parsing problems can be solved with regular expressions.\n",
    "\n",
    "If you're familiar with Perl, you'll notice that the syntax for regular expressions are very similar in Python."
   ]
  },
  {
   "cell_type": "markdown",
   "metadata": {},
   "source": [
    "## Searching for Patterns in Text\n",
    "\n",
    "One of the most common uses for the re module is for finding patterns in text. Let's do a quick example of using the search method in the re module to find some text:"
   ]
  },
  {
   "cell_type": "code",
   "execution_count": 3,
   "metadata": {},
   "outputs": [
    {
     "name": "stdout",
     "output_type": "stream",
     "text": [
      "Searching for \"term1\" in: \n",
      "\"This is a string with term1, but it does not have the other term.\"\n",
      "Match was found.\n",
      "Searching for \"term2\" in: \n",
      "\"This is a string with term1, but it does not have the other term.\"\n",
      "No Match was found.\n"
     ]
    }
   ],
   "source": [
    "import re\n",
    "# List of patterns to search for\n",
    "patterns = [ 'term1', 'term2' ]\n",
    "# Text to parse\n",
    "text = 'This is a string with term1, but it does not have the other term.'\n",
    "for pattern in patterns:\n",
    "    print('Searching for \"%s\" in: \\n\"%s\"' % (pattern, text))\n",
    "    if re.search(pattern,  text):\n",
    "        print('Match was found.')\n",
    "    else:\n",
    "        print('No Match was found.')"
   ]
  },
  {
   "cell_type": "markdown",
   "metadata": {},
   "source": [
    "Now we've seen that re.search() will take the pattern, scan the text, and then returns a **Match** object. If no pattern is found, a **None** is returned. To get a clearer picture of this match object, check out the cell below:"
   ]
  },
  {
   "cell_type": "code",
   "execution_count": 4,
   "metadata": {},
   "outputs": [
    {
     "name": "stdout",
     "output_type": "stream",
     "text": [
      "<class 're.Match'> 22 27\n",
      "24\n"
     ]
    }
   ],
   "source": [
    "# List of patterns to search for\n",
    "pattern = 'term1'\n",
    "# Text to parse\n",
    "text = 'This is a string with term1, but it does not have the other term.'\n",
    "match = re.search(pattern,  text)\n",
    "print(type(match), match.start(), match.end())\n",
    "text = 'This is a string with a TERM1, ...'\n",
    "match = re.search(pattern,  text, re.IGNORECASE)\n",
    "print(match.start())"
   ]
  },
  {
   "cell_type": "code",
   "execution_count": 5,
   "metadata": {},
   "outputs": [
    {
     "name": "stdout",
     "output_type": "stream",
     "text": [
      "matchObj.group() :  Cats are smarter than dogs\n",
      "matchObj.group(1) :  Cats\n",
      "matchObj.group(2) :  smarter\n"
     ]
    }
   ],
   "source": [
    "import re\n",
    "line = \"Cats are smarter than dogs\"\n",
    "matchObj = re.match( r'(.*) are (.*?) .*', line, re.M|re.I)\n",
    "if matchObj:\n",
    "   print(\"matchObj.group() : \", matchObj.group())\n",
    "   print(\"matchObj.group(1) : \", matchObj.group(1))\n",
    "   print(\"matchObj.group(2) : \", matchObj.group(2))\n",
    "else:\n",
    "   print(\"No match!!\")"
   ]
  },
  {
   "cell_type": "markdown",
   "metadata": {},
   "source": [
    "## Split with regular expressions\n",
    "\n",
    "Let's see how we can split with the re syntax. This should look similar to how you used the split() method with strings."
   ]
  },
  {
   "cell_type": "code",
   "execution_count": 6,
   "metadata": {},
   "outputs": [
    {
     "data": {
      "text/plain": [
       "['What is the domain name of someone with the email: hello', 'gmail.com']"
      ]
     },
     "execution_count": 6,
     "metadata": {},
     "output_type": "execute_result"
    }
   ],
   "source": [
    "# Term to split on\n",
    "split_term = '@'\n",
    "phrase = 'What is the domain name of someone with the email: hello@gmail.com'\n",
    "# Split the phrase\n",
    "re.split(split_term,phrase)"
   ]
  },
  {
   "cell_type": "markdown",
   "metadata": {},
   "source": [
    "Note how re.split() returns a list with the term to spit on removed and the terms in the list are a split up version of the string. \n",
    "\n",
    "## Finding all instances of a pattern\n",
    "\n",
    "You can use re.findall() to find all the instances of a pattern in a string. For example:"
   ]
  },
  {
   "cell_type": "code",
   "execution_count": 7,
   "metadata": {},
   "outputs": [
    {
     "name": "stdout",
     "output_type": "stream",
     "text": [
      "['match', 'match']\n",
      "<callable_iterator object at 0x0000023075AF1130>\n"
     ]
    }
   ],
   "source": [
    "# Returns a list of all matches\n",
    "x=re.findall('match','test phrase match is in match middle')\n",
    "print(x)\n",
    "x=re.finditer('match','test phrase match is in match middle')\n",
    "print(x)"
   ]
  },
  {
   "cell_type": "markdown",
   "metadata": {},
   "source": [
    "## Pattern re Syntax\n",
    "\n",
    "This will be the bulk of this lecture on using re with Python. Regular expressions supports a huge variety of patterns to find where a single string occurred. \n",
    "\n",
    "We can use *metacharacters* along with re to find specific types of patterns. \n",
    "\n",
    "Since we will be testing multiple re syntax forms, let's create a function that will print out results given a list of various regular expressions and a phrase to parse:"
   ]
  },
  {
   "cell_type": "code",
   "execution_count": 1,
   "metadata": {},
   "outputs": [],
   "source": [
    "def multi_re_find(patterns,phrase):\n",
    "    '''\n",
    "    Takes in a list of regex patterns\n",
    "    Prints a list of all matches\n",
    "    '''\n",
    "    for pattern in patterns:\n",
    "        print('Searching the phrase using the re check: %r' %pattern)\n",
    "        print(re.findall(pattern,phrase))"
   ]
  },
  {
   "cell_type": "markdown",
   "metadata": {},
   "source": [
    "## Repetition Syntax\n",
    "\n",
    "There are five ways to express repetition in a pattern:\n",
    "\n",
    "    1.) A pattern followed by the meta-character * is repeated zero or more times. \n",
    "    2.) Replace the * with + and the pattern must appear at least once. \n",
    "    3.) Using ? means the pattern appears zero or one time. \n",
    "    4.) For a specific number of occurrences, use {m} after the pattern, where m is replaced with the number of times         the pattern should repeat. \n",
    "    5.) Use {m,n} where m is the minimum number of repetitions and n is the maximum. Leaving out n ({m,}) means the           value appears at least m times, with no maximum.\n",
    "    \n",
    "Now we will see an example of each of these using our multi_re_find function:"
   ]
  },
  {
   "cell_type": "code",
   "execution_count": 8,
   "metadata": {},
   "outputs": [
    {
     "name": "stdout",
     "output_type": "stream",
     "text": [
      "Searching the phrase using the re check: 'sd*'\n",
      "['sd', 'sd', 'sdd', 's', 's', 'sddd', 'sddd', 'sddd', 'sd', 's', 's', 's', 's', 's', 's', 'sdddd']\n",
      "Searching the phrase using the re check: 'sd+'\n",
      "['sd', 'sd', 'sdd', 'sddd', 'sddd', 'sddd', 'sd', 'sdddd']\n",
      "Searching the phrase using the re check: 'sd?'\n",
      "['sd', 'sd', 'sd', 's', 's', 'sd', 'sd', 'sd', 'sd', 's', 's', 's', 's', 's', 's', 'sd']\n",
      "Searching the phrase using the re check: 'sd{3}'\n",
      "['sddd', 'sddd', 'sddd', 'sddd']\n",
      "Searching the phrase using the re check: 'sd{2,3}'\n",
      "['sdd', 'sddd', 'sddd', 'sddd', 'sddd']\n"
     ]
    }
   ],
   "source": [
    "test_phrase = 'sdsdsdd..sssddd...sdddsddd...dsds...dsssss...sdddd'\n",
    "\n",
    "test_patterns = [ 'sd*',     # s followed by zero or more d's\n",
    "                'sd+',          # s followed by one or more d's\n",
    "                'sd?',          # s followed by zero or one d's\n",
    "                'sd{3}',        # s followed by three d's\n",
    "                'sd{2,3}',      # s followed by two to three d's\n",
    "                ]\n",
    "\n",
    "multi_re_find(test_patterns,test_phrase)"
   ]
  },
  {
   "cell_type": "markdown",
   "metadata": {},
   "source": [
    "## Character Sets\n",
    "\n",
    "Character sets are used when you wish to match any one of a group of characters at a point in the input. Brackets are used to construct character set inputs. For example: the input [ab] searches for occurrences of either a or b.\n",
    "Let's see some examples:"
   ]
  },
  {
   "cell_type": "code",
   "execution_count": 9,
   "metadata": {},
   "outputs": [
    {
     "name": "stdout",
     "output_type": "stream",
     "text": [
      "Searching the phrase using the re check: '[sd]'\n",
      "['s', 'd', 's', 'd', 's', 's', 's', 'd', 'd', 'd', 's', 'd', 'd', 'd', 's', 'd', 'd', 'd', 'd', 's', 'd', 's', 'd', 's', 's', 's', 's', 's', 's', 'd', 'd', 'd', 'd']\n",
      "Searching the phrase using the re check: 's[sd]+'\n",
      "['sdsd', 'sssddd', 'sdddsddd', 'sds', 'sssss', 'sdddd']\n"
     ]
    }
   ],
   "source": [
    "test_phrase = 'sdsd..sssddd...sdddsddd...dsds...dsssss...sdddd'\n",
    "test_patterns = [ '[sd]',    # either s or d\n",
    "            's[sd]+']   # s followed by one or more s or d\n",
    "multi_re_find(test_patterns,test_phrase)"
   ]
  },
  {
   "cell_type": "markdown",
   "metadata": {},
   "source": [
    "## Exclusion\n",
    "\n",
    "We can use ^ to exclude terms by incorporating it into the bracket syntax notation. Let's see some examples:"
   ]
  },
  {
   "cell_type": "markdown",
   "metadata": {},
   "source": [
    "Use [^!.? ] to check for matches that are not a !,.,?, or space. Add the + to check that the match appears at least once, this basically translates to finding the words."
   ]
  },
  {
   "cell_type": "code",
   "execution_count": 29,
   "metadata": {},
   "outputs": [
    {
     "name": "stdout",
     "output_type": "stream",
     "text": [
      "['This', 'is', 'a', 'string', 'But', 'it', 'has', 'punctuation', 'How', 'can', 'we', 'remove', 'it']\n"
     ]
    }
   ],
   "source": [
    "test_phrase = 'This is a string! But it has punctuation. How can we remove it?'\n",
    "print(re.findall('[^!.? ]+',test_phrase))"
   ]
  },
  {
   "cell_type": "markdown",
   "metadata": {},
   "source": [
    "## Character Ranges\n",
    "\n",
    "As character sets grow larger, typing every character that should (or should not) match could become very tedious. A more compact format using character ranges lets you define a character set to include all of the contiguous characters between a start and stop point. The format used is [start-end].\n",
    "\n",
    "Common use cases are to search for a specific range of letters in the alphabet, such [a-f] would return matches with any instance of letters between a and f. \n",
    "\n",
    "Let's walk through some examples:"
   ]
  },
  {
   "cell_type": "code",
   "execution_count": 60,
   "metadata": {},
   "outputs": [
    {
     "name": "stdout",
     "output_type": "stream",
     "text": [
      "Searching the phrase using the re check: '[a-z]+'\n",
      "['his', 'is', 'an', 'example', 'sentence', 'ets', 'see', 'if', 'we', 'find', 'some', 'letters']\n",
      "Searching the phrase using the re check: '[A-Z]+'\n",
      "['T', 'L']\n",
      "Searching the phrase using the re check: '[a-zA-Z]+'\n",
      "['This', 'is', 'an', 'example', 'sentence', 'Lets', 'see', 'if', 'we', 'find', 'some', 'letters']\n",
      "Searching the phrase using the re check: '[A-Z][a-z]+'\n",
      "['This', 'Lets']\n"
     ]
    }
   ],
   "source": [
    "\n",
    "test_phrase = 'This is an example sentence. Lets see if we find some letters.'\n",
    "test_patterns=[ '[a-z]+',     # sequences of lower case letters\n",
    "                '[A-Z]+',     # sequences of upper case letters\n",
    "                '[a-zA-Z]+',  # sequences of lower or upper case letters\n",
    "                '[A-Z][a-z]+']# 1 uppercase letter followed by lowercase letters\n",
    "multi_re_find(test_patterns,test_phrase)"
   ]
  },
  {
   "cell_type": "markdown",
   "metadata": {},
   "source": [
    "## Escape Codes\n",
    "\n",
    "You can use special escape codes to find specific types of patterns in your data, such as digits, non-digits,whitespace, and more. For example:\n",
    "\n",
    "<table border=\"1\" class=\"docutils\">\n",
    "<colgroup>\n",
    "<col width=\"14%\" />\n",
    "<col width=\"86%\" />\n",
    "</colgroup>\n",
    "<thead valign=\"bottom\">\n",
    "<tr class=\"row-odd\"><th class=\"head\">Code</th>\n",
    "<th class=\"head\">Meaning</th>\n",
    "</tr>\n",
    "</thead>\n",
    "<tbody valign=\"top\">\n",
    "<tr class=\"row-even\"><td><tt class=\"docutils literal\"><span class=\"pre\">\\d</span></tt></td>\n",
    "<td>a digit</td>\n",
    "</tr>\n",
    "<tr class=\"row-odd\"><td><tt class=\"docutils literal\"><span class=\"pre\">\\D</span></tt></td>\n",
    "<td>a non-digit</td>\n",
    "</tr>\n",
    "<tr class=\"row-even\"><td><tt class=\"docutils literal\"><span class=\"pre\">\\s</span></tt></td>\n",
    "<td>whitespace (tab, space, newline, etc.)</td>\n",
    "</tr>\n",
    "<tr class=\"row-odd\"><td><tt class=\"docutils literal\"><span class=\"pre\">\\S</span></tt></td>\n",
    "<td>non-whitespace</td>\n",
    "</tr>\n",
    "<tr class=\"row-even\"><td><tt class=\"docutils literal\"><span class=\"pre\">\\w</span></tt></td>\n",
    "<td>alphanumeric</td>\n",
    "</tr>\n",
    "<tr class=\"row-odd\"><td><tt class=\"docutils literal\"><span class=\"pre\">\\W</span></tt></td>\n",
    "<td>non-alphanumeric</td>\n",
    "</tr>\n",
    "</tbody>\n",
    "</table>\n",
    "\n",
    "Escapes are indicated by prefixing the character with a backslash (\\\\). Unfortunately, a backslash must itself be escaped in normal Python strings, and that results in expressions that are difficult to read. Using raw strings, created by prefixing the literal value with r, for creating regular expressions eliminates this problem and maintains readability."
   ]
  },
  {
   "cell_type": "code",
   "execution_count": 62,
   "metadata": {},
   "outputs": [
    {
     "name": "stdout",
     "output_type": "stream",
     "text": [
      "Searching the phrase using the re check: '\\\\d+'\n",
      "['1233', '45', '13']\n",
      "Searching the phrase using the re check: '\\\\D+'\n",
      "['This is  a string with some numbers ', ' a', ' and a symbol #hashtag ']\n",
      "Searching the phrase using the re check: '\\\\s+'\n",
      "[' ', '  ', ' ', ' ', ' ', ' ', ' ', ' ', ' ', ' ', ' ', ' ', ' ']\n",
      "Searching the phrase using the re check: '\\\\S+'\n",
      "['This', 'is', 'a', 'string', 'with', 'some', 'numbers', '1233', 'a45', 'and', 'a', 'symbol', '#hashtag', '13']\n",
      "Searching the phrase using the re check: '\\\\w+'\n",
      "['This', 'is', 'a', 'string', 'with', 'some', 'numbers', '1233', 'a45', 'and', 'a', 'symbol', 'hashtag', '13']\n",
      "Searching the phrase using the re check: '\\\\W+'\n",
      "[' ', '  ', ' ', ' ', ' ', ' ', ' ', ' ', ' ', ' ', ' ', ' #', ' ']\n"
     ]
    }
   ],
   "source": [
    "test_phrase = 'This is  a string with some numbers 1233 a45 and a symbol #hashtag 13'\n",
    "test_patterns=[ r'\\d+', # sequence of digits\n",
    "                r'\\D+', # sequence of non-digits\n",
    "                r'\\s+', # sequence of whitespace\n",
    "                r'\\S+', # sequence of non-whitespace\n",
    "                r'\\w+', # alphanumeric characters\n",
    "                r'\\W+', # non-alphanumeric\n",
    "                ]\n",
    "multi_re_find(test_patterns,test_phrase)"
   ]
  },
  {
   "cell_type": "code",
   "execution_count": 65,
   "metadata": {},
   "outputs": [
    {
     "name": "stdout",
     "output_type": "stream",
     "text": [
      "Phone Num :  2004-959-559 \n",
      "Phone Num :  2004959559\n"
     ]
    }
   ],
   "source": [
    "import re\n",
    "phone = \"2004-959-559 # This is Phone Number\"\n",
    "# Delete Python-style comments\n",
    "num = re.sub(r'#.*', \"\", phone)\n",
    "print(\"Phone Num : \", num)\n",
    "# Remove anything other than digits\n",
    "num = re.sub(r'\\D', \"\", phone)    \n",
    "print(\"Phone Num : \", num)"
   ]
  },
  {
   "cell_type": "code",
   "execution_count": 37,
   "metadata": {},
   "outputs": [],
   "source": [
    "from re import *\n",
    "t = 'The quick brown fox born on 1/23/2013 jumped over the lazy dog born on 10/6/10.'"
   ]
  },
  {
   "cell_type": "code",
   "execution_count": 70,
   "metadata": {},
   "outputs": [
    {
     "data": {
      "text/plain": [
       "'The quick =brown= =fox= =born= =on= 1/23/2013 jumped =over= the lazy =dog= =born= =on= 10/6/10.'"
      ]
     },
     "execution_count": 70,
     "metadata": {},
     "output_type": "execute_result"
    }
   ],
   "source": [
    "sub(r'(\\w*)o(\\w*)', r'=\\1o\\2=', t)"
   ]
  },
  {
   "cell_type": "code",
   "execution_count": 15,
   "metadata": {},
   "outputs": [
    {
     "data": {
      "text/plain": [
       "'The quick =brown= =fox= =born= =on= 1/23/2013 jumped =over= the lazy =dog= =born= =on= 10/6/10.'"
      ]
     },
     "execution_count": 15,
     "metadata": {},
     "output_type": "execute_result"
    }
   ],
   "source": [
    "sub(r'(?P<firstPartOfWord>\\w*)o(?P<after>\\w*)', r'=\\g<firstPartOfWord>o\\g<after>=', t)"
   ]
  },
  {
   "cell_type": "code",
   "execution_count": 16,
   "metadata": {},
   "outputs": [
    {
     "data": {
      "text/plain": [
       "'The quick =brown= =fox= =born= =on= 1/23/2013 jumped =over= the lazy =dog= =born= =on= 10/6/10.'"
      ]
     },
     "execution_count": 16,
     "metadata": {},
     "output_type": "execute_result"
    }
   ],
   "source": [
    "sub(r'(?x) (?P<before> \\w*) o (?P<after> \\w*)', r'=\\g<before>o\\g<after>=', t)"
   ]
  },
  {
   "cell_type": "code",
   "execution_count": 72,
   "metadata": {},
   "outputs": [
    {
     "data": {
      "text/plain": [
       "'The quick =brown= =fox= =born= =on= 1/23/2013 jumped =over= the lazy =dog= =born= =on= 10/6/10.'"
      ]
     },
     "execution_count": 72,
     "metadata": {},
     "output_type": "execute_result"
    }
   ],
   "source": [
    "sub(r'(?x) (\\w*o\\w*)', r'=\\1=', t)"
   ]
  },
  {
   "cell_type": "code",
   "execution_count": 18,
   "metadata": {},
   "outputs": [
    {
     "data": {
      "text/plain": [
       "['23/2013 jumped over the lazy dog born on 10/6']"
      ]
     },
     "execution_count": 18,
     "metadata": {},
     "output_type": "execute_result"
    }
   ],
   "source": [
    "fi = finditer(r'(?x) / (.* ) /', t)\n",
    "\n",
    "[m.group(1) for m in fi]"
   ]
  },
  {
   "cell_type": "code",
   "execution_count": 19,
   "metadata": {},
   "outputs": [
    {
     "data": {
      "text/plain": [
       "['23', '6']"
      ]
     },
     "execution_count": 19,
     "metadata": {},
     "output_type": "execute_result"
    }
   ],
   "source": [
    "fi = finditer(r'(?x) / (.*? ) /', t)\n",
    "\n",
    "[m.group(1) for m in fi]"
   ]
  },
  {
   "cell_type": "code",
   "execution_count": 20,
   "metadata": {},
   "outputs": [
    {
     "data": {
      "text/plain": [
       "['e quick brown fox born on 1/23/2013 jumped over the', 'og born o']"
      ]
     },
     "execution_count": 20,
     "metadata": {},
     "output_type": "execute_result"
    }
   ],
   "source": [
    "fi = finditer(r'(?x) ([aeiou]) .* \\1', t)\n",
    "\n",
    "[m.group(0) for m in fi]"
   ]
  },
  {
   "cell_type": "code",
   "execution_count": 21,
   "metadata": {},
   "outputs": [
    {
     "data": {
      "text/plain": [
       "['e quick brown fox born on 1/23/2013 jumpe', 'over the lazy do', 'orn o']"
      ]
     },
     "execution_count": 21,
     "metadata": {},
     "output_type": "execute_result"
    }
   ],
   "source": [
    "fi = finditer(r'(?x) ([aeiou]) .*? \\1', t)\n",
    "\n",
    "[m.group(0) for m in fi]"
   ]
  },
  {
   "cell_type": "code",
   "execution_count": 22,
   "metadata": {},
   "outputs": [
    {
     "data": {
      "text/plain": [
       "['The ',\n",
       " ' brown fox born on 1/23/2013 ',\n",
       " ' over the lazy dog born on 10/6/10.']"
      ]
     },
     "execution_count": 22,
     "metadata": {},
     "output_type": "execute_result"
    }
   ],
   "source": [
    "split(r'\\w+u\\w+', t)"
   ]
  },
  {
   "cell_type": "code",
   "execution_count": 23,
   "metadata": {},
   "outputs": [
    {
     "data": {
      "text/plain": [
       "['The ',\n",
       " 'quick',\n",
       " ' brown fox born on 1/23/2013 ',\n",
       " 'jumped',\n",
       " ' over the lazy dog born on 10/6/10.']"
      ]
     },
     "execution_count": 23,
     "metadata": {},
     "output_type": "execute_result"
    }
   ],
   "source": [
    "split(r'(\\w+u\\w+)', t)"
   ]
  },
  {
   "cell_type": "code",
   "execution_count": 24,
   "metadata": {},
   "outputs": [
    {
     "data": {
      "text/plain": [
       "['The quick ',\n",
       " 'brown',\n",
       " ' ',\n",
       " 'fox',\n",
       " ' ',\n",
       " 'born',\n",
       " ' ',\n",
       " 'on',\n",
       " ' 1/23/2013 jumped ',\n",
       " 'over',\n",
       " ' the lazy ',\n",
       " 'dog',\n",
       " ' ',\n",
       " 'born',\n",
       " ' ',\n",
       " 'on',\n",
       " ' 10/6/10.']"
      ]
     },
     "execution_count": 24,
     "metadata": {},
     "output_type": "execute_result"
    }
   ],
   "source": [
    "split(r'(\\w*o\\w*)', t)"
   ]
  },
  {
   "cell_type": "markdown",
   "metadata": {},
   "source": [
    "Here we split on 4-letter words.  Then we do it again and capture the 4-letter words."
   ]
  },
  {
   "cell_type": "code",
   "execution_count": 25,
   "metadata": {},
   "outputs": [
    {
     "data": {
      "text/plain": [
       "['The quick brown fox ',\n",
       " ' on 1/23/',\n",
       " ' jumped ',\n",
       " ' the ',\n",
       " ' dog ',\n",
       " ' on 10/6/10.']"
      ]
     },
     "execution_count": 25,
     "metadata": {},
     "output_type": "execute_result"
    }
   ],
   "source": [
    "\n",
    "split(r'\\b\\w{4}\\b', t)\n"
   ]
  },
  {
   "cell_type": "code",
   "execution_count": 26,
   "metadata": {},
   "outputs": [
    {
     "data": {
      "text/plain": [
       "['The quick brown fox ',\n",
       " 'born',\n",
       " ' on 1/23/',\n",
       " '2013',\n",
       " ' jumped ',\n",
       " 'over',\n",
       " ' the ',\n",
       " 'lazy',\n",
       " ' dog ',\n",
       " 'born',\n",
       " ' on 10/6/10.']"
      ]
     },
     "execution_count": 26,
     "metadata": {},
     "output_type": "execute_result"
    }
   ],
   "source": [
    "\n",
    "split(r'\\b(\\w{4})\\b', t)\n"
   ]
  }
 ],
 "metadata": {
  "kernelspec": {
   "display_name": "Python 3 (ipykernel)",
   "language": "python",
   "name": "python3"
  },
  "language_info": {
   "codemirror_mode": {
    "name": "ipython",
    "version": 3
   },
   "file_extension": ".py",
   "mimetype": "text/x-python",
   "name": "python",
   "nbconvert_exporter": "python",
   "pygments_lexer": "ipython3",
   "version": "3.9.13"
  }
 },
 "nbformat": 4,
 "nbformat_minor": 1
}
