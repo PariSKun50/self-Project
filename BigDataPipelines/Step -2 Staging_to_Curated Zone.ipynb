{
 "cells": [
  {
   "cell_type": "markdown",
   "metadata": {
    "application/vnd.databricks.v1+cell": {
     "cellMetadata": {
      "byteLimit": 2048000,
      "rowLimit": 10000
     },
     "inputWidgets": {},
     "nuid": "9e2b2c74-427a-4fce-a5d0-b022fbd87090",
     "showTitle": false,
     "title": ""
    }
   },
   "source": [
    "## Objective:\n",
    "This is the second notebook in the assignment and deals with: \n",
    "- Reading data from the staging tables and querying them to derive necessary metrics\n",
    "- Creating a curated database and some tables in it, and\n",
    "- Storing the metrics in the relevant tables in the curated database."
   ]
  },
  {
   "cell_type": "markdown",
   "metadata": {
    "application/vnd.databricks.v1+cell": {
     "cellMetadata": {
      "byteLimit": 2048000,
      "rowLimit": 10000
     },
     "inputWidgets": {},
     "nuid": "c36c23b5-2c24-419a-b270-0618ea07f255",
     "showTitle": false,
     "title": ""
    }
   },
   "source": [
    "The databricks public link to this workbook is https://databricks-prod-cloudfront.cloud.databricks.com/public/4027ec902e239c93eaaa8714f173bcfc/1721482899250574/754950429162319/2654077590604412/latest.html"
   ]
  },
  {
   "cell_type": "markdown",
   "metadata": {
    "application/vnd.databricks.v1+cell": {
     "cellMetadata": {
      "byteLimit": 2048000,
      "rowLimit": 10000
     },
     "inputWidgets": {},
     "nuid": "a19aa360-eef8-4406-8052-e712b96692b4",
     "showTitle": false,
     "title": ""
    }
   },
   "source": [
    "### 1. Staging database"
   ]
  },
  {
   "cell_type": "code",
   "execution_count": null,
   "metadata": {
    "application/vnd.databricks.v1+cell": {
     "cellMetadata": {
      "byteLimit": 2048000,
      "rowLimit": 10000
     },
     "inputWidgets": {},
     "nuid": "baf03ec7-0e81-4c0b-a3c7-6144b7ca2307",
     "showTitle": false,
     "title": ""
    }
   },
   "outputs": [],
   "source": [
    "spark.conf.set(\"spark.sql.legacy.timeParserPolicy\",\"LEGACY\")"
   ]
  },
  {
   "cell_type": "code",
   "execution_count": null,
   "metadata": {
    "application/vnd.databricks.v1+cell": {
     "cellMetadata": {
      "byteLimit": 2048000,
      "implicitDf": true,
      "rowLimit": 10000
     },
     "inputWidgets": {},
     "nuid": "674cd012-52bf-46f9-ad6e-3aa719c7c225",
     "showTitle": false,
     "title": ""
    }
   },
   "outputs": [
    {
     "data": {
      "text/html": [
       "<style scoped>\n",
       "  .table-result-container {\n",
       "    max-height: 300px;\n",
       "    overflow: auto;\n",
       "  }\n",
       "  table, th, td {\n",
       "    border: 1px solid black;\n",
       "    border-collapse: collapse;\n",
       "  }\n",
       "  th, td {\n",
       "    padding: 5px;\n",
       "  }\n",
       "  th {\n",
       "    text-align: left;\n",
       "  }\n",
       "</style><div class='table-result-container'><table class='table-result'><thead style='background-color: white'><tr><th>database</th><th>tableName</th><th>isTemporary</th></tr></thead><tbody><tr><td>staging</td><td>customers</td><td>false</td></tr><tr><td>staging</td><td>orders</td><td>false</td></tr></tbody></table></div>"
      ]
     },
     "metadata": {
      "application/vnd.databricks.v1+output": {
       "addedWidgets": {},
       "aggData": [],
       "aggError": "",
       "aggOverflow": false,
       "aggSchema": [],
       "aggSeriesLimitReached": false,
       "aggType": "",
       "arguments": {},
       "columnCustomDisplayInfos": {},
       "data": [
        [
         "staging",
         "customers",
         false
        ],
        [
         "staging",
         "orders",
         false
        ]
       ],
       "datasetInfos": [],
       "dbfsResultPath": null,
       "isJsonSchema": true,
       "metadata": {},
       "overflow": false,
       "plotOptions": {
        "customPlotOptions": {},
        "displayType": "table",
        "pivotAggregation": null,
        "pivotColumns": null,
        "xColumns": null,
        "yColumns": null
       },
       "removedWidgets": [],
       "schema": [
        {
         "metadata": "{}",
         "name": "database",
         "type": "\"string\""
        },
        {
         "metadata": "{}",
         "name": "tableName",
         "type": "\"string\""
        },
        {
         "metadata": "{}",
         "name": "isTemporary",
         "type": "\"boolean\""
        }
       ],
       "type": "table"
      }
     },
     "output_type": "display_data"
    }
   ],
   "source": [
    "%sql\n",
    "-- Run the following command to view all the tables present in the staging schema\n",
    "\n",
    "USE staging;\n",
    "SHOW TABLES;"
   ]
  },
  {
   "cell_type": "markdown",
   "metadata": {
    "application/vnd.databricks.v1+cell": {
     "cellMetadata": {
      "byteLimit": 2048000,
      "rowLimit": 10000
     },
     "inputWidgets": {},
     "nuid": "c11e0ba4-1b69-4cb3-a300-b4f0d1d3fc54",
     "showTitle": false,
     "title": ""
    }
   },
   "source": [
    "### 1a) Reading data from the staging database\n"
   ]
  },
  {
   "cell_type": "code",
   "execution_count": null,
   "metadata": {
    "application/vnd.databricks.v1+cell": {
     "cellMetadata": {
      "byteLimit": 2048000,
      "rowLimit": 10000
     },
     "inputWidgets": {},
     "nuid": "e402e5ef-b068-4c28-bbde-431c434ac7e6",
     "showTitle": false,
     "title": ""
    }
   },
   "outputs": [
    {
     "name": "stdout",
     "output_type": "stream",
     "text": [
      "Out[3]: DataFrame[City: string, County: string, CustomerSince: date, Email: string, Gender: string, PlaceName: string, Region: string, State: string, Zip: string, Age: int, CustID: int, FullName: string]"
     ]
    }
   ],
   "source": [
    "from pyspark.sql.functions import *\n",
    "\n",
    "orders_df = spark.read.table(\"staging.orders\")\n",
    "orders_df.cache()\n",
    "\n",
    "customers_df = spark.read.table(\"staging.customers\")\n",
    "customers_df.cache()"
   ]
  },
  {
   "cell_type": "code",
   "execution_count": null,
   "metadata": {
    "application/vnd.databricks.v1+cell": {
     "cellMetadata": {
      "byteLimit": 2048000,
      "rowLimit": 10000
     },
     "inputWidgets": {},
     "nuid": "c532f07a-ea25-4da7-a71c-6eedef07958c",
     "showTitle": false,
     "title": ""
    }
   },
   "outputs": [
    {
     "name": "stdout",
     "output_type": "stream",
     "text": [
      "Out[4]: [Row(Status='received'),\n",
      " Row(Status='cod'),\n",
      " Row(Status='holded'),\n",
      " Row(Status='canceled'),\n",
      " Row(Status='refund'),\n",
      " Row(Status='paid'),\n",
      " Row(Status='pending'),\n",
      " Row(Status='closed'),\n",
      " Row(Status='payment_review'),\n",
      " Row(Status='order_refunded'),\n",
      " Row(Status='processing'),\n",
      " Row(Status='complete'),\n",
      " Row(Status='pending_paypal')]"
     ]
    }
   ],
   "source": [
    "#Run the following command to view the unique values present in the \"Status\" column in the orders_df dataframe.\n",
    "orders_df.select('Status').distinct().collect()"
   ]
  },
  {
   "cell_type": "markdown",
   "metadata": {
    "application/vnd.databricks.v1+cell": {
     "cellMetadata": {
      "byteLimit": 2048000,
      "rowLimit": 10000
     },
     "inputWidgets": {},
     "nuid": "576f6743-2765-4b4a-ac55-aa80d30ae2c9",
     "showTitle": false,
     "title": ""
    }
   },
   "source": [
    "##### From the above output, we find that there are orders with statuses like \"holded\", \"canceled\", \"pending_paypal\" etc. that do not count towards final *revenue* to the company. And there are some statuses like \"order_refunded', 'refund' that we need to consider separately as *refunds*.\n",
    "- We therefore split the orders table into three parts - completed orders, refunded orders and all other orders - and calculate the aggregates."
   ]
  },
  {
   "cell_type": "code",
   "execution_count": null,
   "metadata": {
    "application/vnd.databricks.v1+cell": {
     "cellMetadata": {
      "byteLimit": 2048000,
      "rowLimit": 10000
     },
     "inputWidgets": {},
     "nuid": "a88ee2a4-e7f6-44a2-9736-559bb36acc0d",
     "showTitle": false,
     "title": ""
    }
   },
   "outputs": [],
   "source": [
    "completed_statuses = ['received','cod','paid','closed','complete']\n",
    "refunded_statuses = ['refund','order_refunded']\n",
    "\n",
    "completed_orders =  orders_df.filter(orders_df.Status.isin(completed_statuses))\n",
    "refunded_orders =   orders_df.filter(orders_df.Status.isin(refunded_statuses))\n",
    "other_orders =      orders_df.filter(~orders_df.Status.isin(completed_statuses + refunded_statuses))"
   ]
  },
  {
   "cell_type": "code",
   "execution_count": null,
   "metadata": {
    "application/vnd.databricks.v1+cell": {
     "cellMetadata": {
      "byteLimit": 2048000,
      "rowLimit": 10000
     },
     "inputWidgets": {},
     "nuid": "f5285276-22ed-4b5e-a24e-0d360eaa1f42",
     "showTitle": false,
     "title": ""
    }
   },
   "outputs": [
    {
     "name": "stdout",
     "output_type": "stream",
     "text": [
      "+---------+-----+\n",
      "|  OrderID|Count|\n",
      "+---------+-----+\n",
      "|100433271|    2|\n",
      "|100436108|    2|\n",
      "|100437512|    2|\n",
      "|100465160|    3|\n",
      "|100438156|    2|\n",
      "|100538093|    2|\n",
      "|100445454|    2|\n",
      "|100445617|    3|\n",
      "|100536975|    2|\n",
      "|100444899|    2|\n",
      "+---------+-----+\n",
      "only showing top 10 rows\n",
      "\n"
     ]
    }
   ],
   "source": [
    "#Run the following command to check if an order occurs more than once in the dataset.\n",
    "\n",
    "from pyspark.sql import functions as F\n",
    "\n",
    "orders_df.groupBy('OrderID').agg(F.count('*').alias('Count')).filter('Count > 1').show(10)"
   ]
  },
  {
   "cell_type": "markdown",
   "metadata": {
    "application/vnd.databricks.v1+cell": {
     "cellMetadata": {},
     "inputWidgets": {},
     "nuid": "15141d99-2a9d-4174-a577-9b7c9a875079",
     "showTitle": false,
     "title": ""
    }
   },
   "source": [
    "##### As can be seen from the above output, there are multiple occurences of some orders. We, therefore, will consider only the unique occurences when calculating the *_total orders_* placed by a customer."
   ]
  },
  {
   "cell_type": "markdown",
   "metadata": {
    "application/vnd.databricks.v1+cell": {
     "cellMetadata": {
      "byteLimit": 2048000,
      "rowLimit": 10000
     },
     "inputWidgets": {},
     "nuid": "f18b6ebb-722d-4c93-80fe-c4693bd6e89c",
     "showTitle": false,
     "title": ""
    }
   },
   "source": [
    "### 2. Querying the above dataframes to derive metrics to answer the questions"
   ]
  },
  {
   "cell_type": "markdown",
   "metadata": {
    "application/vnd.databricks.v1+cell": {
     "cellMetadata": {
      "byteLimit": 2048000,
      "rowLimit": 10000
     },
     "inputWidgets": {},
     "nuid": "92f84053-ea80-4410-b112-3b8561d0e356",
     "showTitle": false,
     "title": ""
    }
   },
   "source": [
    "##### 2a) Create new dataframes by calculating the total revenue/refund and the number of orders placed, grouped by the product category, purchase year and month-year.\n",
    "- This helps us answer questions 1,2,3 in the assignment."
   ]
  },
  {
   "cell_type": "code",
   "execution_count": null,
   "metadata": {
    "application/vnd.databricks.v1+cell": {
     "cellMetadata": {
      "byteLimit": 2048000,
      "rowLimit": 10000
     },
     "inputWidgets": {},
     "nuid": "d2379dcc-6c43-4486-b7c5-fdd224946d2a",
     "showTitle": false,
     "title": ""
    }
   },
   "outputs": [],
   "source": [
    "completed_orders_metrics = completed_orders.groupBy(\"Category\", \"Year\", \"Month_Year\").agg( sum(\"Total\").alias(\"Revenue\"),countDistinct(\"OrderID\").alias(\"TotalOrders\"))\\\n",
    "                                                                                     .orderBy(['Year','Month_Year'],ascending=True\n",
    "                                                    )"
   ]
  },
  {
   "cell_type": "code",
   "execution_count": null,
   "metadata": {
    "application/vnd.databricks.v1+cell": {
     "cellMetadata": {
      "byteLimit": 2048000,
      "rowLimit": 10000
     },
     "inputWidgets": {},
     "nuid": "553854e6-1222-4b1d-b61a-f330fad8fad2",
     "showTitle": false,
     "title": ""
    }
   },
   "outputs": [],
   "source": [
    "refunded_orders_metrics = refunded_orders.groupBy(\"Category\", \"Year\", \"Month_Year\").agg( sum(\"Total\").alias(\"Refund\"),countDistinct(\"OrderID\").alias(\"TotalOrders\")) \\\n",
    "                                                                                   .orderBy(['Year','Month_Year'],ascending=True\n",
    "                                                                                   )"
   ]
  },
  {
   "cell_type": "code",
   "execution_count": null,
   "metadata": {
    "application/vnd.databricks.v1+cell": {
     "cellMetadata": {
      "byteLimit": 2048000,
      "rowLimit": 10000
     },
     "inputWidgets": {},
     "nuid": "ed8b2480-eec1-4e41-a32c-3ffec88d0fb5",
     "showTitle": false,
     "title": ""
    }
   },
   "outputs": [],
   "source": [
    "other_orders_metrics = other_orders.groupBy(\"Category\", \"Year\", \"Month_Year\").agg( sum(\"Total\").alias(\"Revenue\"),countDistinct(\"OrderID\").alias(\"TotalOrders\")) \\\n",
    "                                                                                   .orderBy(['Year','Month_Year'],ascending=True\n",
    "                                                                                   )"
   ]
  },
  {
   "cell_type": "code",
   "execution_count": null,
   "metadata": {
    "application/vnd.databricks.v1+cell": {
     "cellMetadata": {
      "byteLimit": 2048000,
      "rowLimit": 10000
     },
     "inputWidgets": {},
     "nuid": "f2170296-8754-4456-9126-f0ee2c62929e",
     "showTitle": false,
     "title": ""
    }
   },
   "outputs": [
    {
     "name": "stdout",
     "output_type": "stream",
     "text": [
      "+---------------+----+----------+------------------+-----------+\n",
      "|       Category|Year|Month_Year|           Revenue|TotalOrders|\n",
      "+---------------+----+----------+------------------+-----------+\n",
      "|  Home & Living|2020|  Dec-2020|186017.76805210114|       1724|\n",
      "|      Computing|2020|  Dec-2020|1252693.5991449356|       1173|\n",
      "|Women's Fashion|2020|  Dec-2020| 598978.1214361191|       2623|\n",
      "|     Appliances|2020|  Dec-2020| 5082387.872704029|       6989|\n",
      "|    Kids & Baby|2020|  Dec-2020| 57219.67628479004|        640|\n",
      "+---------------+----+----------+------------------+-----------+\n",
      "only showing top 5 rows\n",
      "\n"
     ]
    }
   ],
   "source": [
    "#Show the first 5 records\n",
    "completed_orders_metrics.show(5)"
   ]
  },
  {
   "cell_type": "markdown",
   "metadata": {
    "application/vnd.databricks.v1+cell": {
     "cellMetadata": {
      "byteLimit": 2048000,
      "rowLimit": 10000
     },
     "inputWidgets": {},
     "nuid": "4712f34e-588c-44b9-ba3e-047d2f52f7af",
     "showTitle": false,
     "title": ""
    }
   },
   "source": [
    "##### 2b) Create a new dataframe by joining the *_completed_orders_* with the customers_df on the CustID column.\n",
    "- This helps us answer questions 4,5 and 6 in the assignment.\n",
    "- Please note that only **completed orders** have been considered for calculating the **spend** by customers."
   ]
  },
  {
   "cell_type": "code",
   "execution_count": null,
   "metadata": {
    "application/vnd.databricks.v1+cell": {
     "cellMetadata": {
      "byteLimit": 2048000,
      "rowLimit": 10000
     },
     "inputWidgets": {},
     "nuid": "28114891-4b8f-4fdf-8e16-727af9ade2f2",
     "showTitle": false,
     "title": ""
    }
   },
   "outputs": [],
   "source": [
    "completed_customer_orders = completed_orders.join(customers_df, on = [\"CustID\"], how = 'inner' )"
   ]
  },
  {
   "cell_type": "code",
   "execution_count": null,
   "metadata": {
    "application/vnd.databricks.v1+cell": {
     "cellMetadata": {
      "byteLimit": 2048000,
      "rowLimit": 10000
     },
     "inputWidgets": {},
     "nuid": "4ce40e64-4ed2-4e43-9074-372375efb92a",
     "showTitle": false,
     "title": ""
    }
   },
   "outputs": [
    {
     "name": "stdout",
     "output_type": "stream",
     "text": [
      "+------+---------+----------+--------+------+----------------+-----+-----+---------------+-----+-------------+--------------+----------+----+--------+-------+-------------+--------------------+------+---------+---------+-----+-----+---+----------------+\n",
      "|CustID|  OrderID|Order_Date|  Status|ItemID|Quantity_Ordered|Price|Value|Discount_Amount|Total|     Category|Payment_Method|Month_Year|Year|    City| County|CustomerSince|               Email|Gender|PlaceName|   Region|State|  Zip|Age|        FullName|\n",
      "+------+---------+----------+--------+------+----------------+-----+-----+---------------+-----+-------------+--------------+----------+----+--------+-------+-------------+--------------------+------+---------+---------+-----+-----+---+----------------+\n",
      "| 24389|100433019|2021-01-06|received|708346|               2| 29.8| 29.8|            0.0| 29.8|Men's Fashion|           cod|  Jan-2021|2021|Palmetto|Manatee|   2014-10-14|maximo.herring@ho...|     M| Palmetto|    South|   FL|34220| 45| Herring, Maximo|\n",
      "| 24389|100433019|2021-01-06|received|708347|               2| 29.8| 29.8|            0.0| 29.8|Men's Fashion|           cod|  Jan-2021|2021|Palmetto|Manatee|   2014-10-14|maximo.herring@ho...|     M| Palmetto|    South|   FL|34220| 45| Herring, Maximo|\n",
      "| 24389|100433019|2021-01-06|received|708348|               2| 84.9| 84.9|            0.0| 84.9|Men's Fashion|           cod|  Jan-2021|2021|Palmetto|Manatee|   2014-10-14|maximo.herring@ho...|     M| Palmetto|    South|   FL|34220| 45| Herring, Maximo|\n",
      "| 82385|100433270|2021-01-07|complete|708865|               2|148.9|148.9|            0.0|148.9|  Kids & Baby|           cod|  Jan-2021|2021|  Albany| Albany|   2007-12-13|velia.leffel@hotm...|     F|   Albany|Northeast|   NY|12240| 50|   Leffel, Velia|\n",
      "| 82387|100433033|2021-01-06|complete|708362|               2| 30.0| 30.0|            0.0| 30.0|Home & Living|           cod|  Jan-2021|2021|   Pyatt| Marion|   1986-12-26|jacalyn.willson@g...|     F|    Pyatt|    South|   AR|72672| 36|Willson, Jacalyn|\n",
      "+------+---------+----------+--------+------+----------------+-----+-----+---------------+-----+-------------+--------------+----------+----+--------+-------+-------------+--------------------+------+---------+---------+-----+-----+---+----------------+\n",
      "only showing top 5 rows\n",
      "\n"
     ]
    }
   ],
   "source": [
    "completed_customer_orders.show(5)"
   ]
  },
  {
   "cell_type": "code",
   "execution_count": null,
   "metadata": {
    "application/vnd.databricks.v1+cell": {
     "cellMetadata": {
      "byteLimit": 2048000,
      "rowLimit": 10000
     },
     "inputWidgets": {},
     "nuid": "fb2b7986-ba39-40cb-abe0-5154372e9e4d",
     "showTitle": false,
     "title": ""
    }
   },
   "outputs": [
    {
     "name": "stdout",
     "output_type": "stream",
     "text": [
      "+------+---------+----------+--------+------+----------------+------+------+---------------+------+-----------------+--------------+----------+----+----------+--------+-------------+--------------------+------+----------+-------+-----+-----+---+------------------+----------------+\n",
      "|CustID|  OrderID|Order_Date|  Status|ItemID|Quantity_Ordered| Price| Value|Discount_Amount| Total|         Category|Payment_Method|Month_Year|Year|      City|  County|CustomerSince|               Email|Gender| PlaceName| Region|State|  Zip|Age|          FullName|Customer_Segment|\n",
      "+------+---------+----------+--------+------+----------------+------+------+---------------+------+-----------------+--------------+----------+----+----------+--------+-------------+--------------------+------+----------+-------+-----+-----+---+------------------+----------------+\n",
      "| 82529|100433524|2021-01-08|complete|709387|               2| 109.9| 109.9|            0.0| 109.9|Beauty & Grooming|           cod|  Jan-2021|2021|     Malta|  DeKalb|   1995-10-19|annie.showman@hot...|     F|     Malta|Midwest|   IL|60150| 30|    Showman, Annie|          Adults|\n",
      "| 82529|100433524|2021-01-08|complete|709388|               2|  59.9|  59.9|            0.0|  59.9|    Men's Fashion|           cod|  Jan-2021|2021|     Malta|  DeKalb|   1995-10-19|annie.showman@hot...|     F|     Malta|Midwest|   IL|60150| 30|    Showman, Annie|          Adults|\n",
      "| 82582|100433723|2021-01-08|complete|709733|               3| 255.6| 511.2|            0.0| 511.2|       Appliances|           cod|  Jan-2021|2021|  Norcross|Gwinnett|   1992-12-19|stanton.thames@co...|     M|  Norcross|  South|   GA|30091| 55|   Thames, Stanton|     Middle Ages|\n",
      "| 82672|100434208|2021-01-09|complete|710522|               2|  74.9|  74.9|            0.0|  74.9|  Women's Fashion|           cod|  Jan-2021|2021|Canon City| Fremont|   2013-02-05|andres.otter@comc...|     M|Canon City|   West|   CO|81212| 55|     Otter, Andres|     Middle Ages|\n",
      "| 82794|100434864|2021-01-10|complete|711669|               2|5729.2|5729.2|            0.0|5729.2|        Computing|           cod|  Jan-2021|2021|   Ambrose|  Divide|   2016-03-09|phillip.mendelson...|     M|   Ambrose|Midwest|   ND|58833| 75|Mendelson, Phillip|             Old|\n",
      "+------+---------+----------+--------+------+----------------+------+------+---------------+------+-----------------+--------------+----------+----+----------+--------+-------------+--------------------+------+----------+-------+-----+-----+---+------------------+----------------+\n",
      "only showing top 5 rows\n",
      "\n"
     ]
    }
   ],
   "source": [
    "# Derive a new column \"Customer Segment\" based on the following logic\n",
    "# If Age is between 0-20, then Young.\n",
    "# If Age is between 20-35, then Adults. \n",
    "# If Age is between 35-55, then Middle Ages.\n",
    "# If Age is greater than 55, then Old.\n",
    "\n",
    "\n",
    "from pyspark.sql.functions import when\n",
    "\n",
    "completed_customer_orders = completed_customer_orders.withColumn('Customer_Segment', when(completed_customer_orders.Age <= 20, \"Young\")\n",
    "                                                   .when((completed_customer_orders.Age > 20) & (completed_customer_orders.Age <= 35), \"Adults\")\n",
    "                                                   .when((completed_customer_orders.Age > 35) & (completed_customer_orders.Age <= 55), \"Middle Ages\")\n",
    "                                                   .otherwise(\"Old\")\n",
    "                                                    )\n",
    "\n",
    "completed_customer_orders.show(5)                                                                  "
   ]
  },
  {
   "cell_type": "markdown",
   "metadata": {
    "application/vnd.databricks.v1+cell": {
     "cellMetadata": {
      "byteLimit": 2048000,
      "rowLimit": 10000
     },
     "inputWidgets": {},
     "nuid": "07dcb165-2760-4351-9878-8fd112f93cd0",
     "showTitle": false,
     "title": ""
    }
   },
   "source": [
    "#### 2c) RFM calculation for each customer.\n",
    "- *Recency* indicates the number of weeks that have elapsed between the customer's last purchase date and the reference date (31st Oct 2021)\n",
    "- *Frequency* indicates the number of *_unique_* purchases made by a customer during a certain time period\n",
    "- *Monetary* value indicates the total amount of money a customer has spent on purchases.\n",
    "\n",
    "Even here only the **completed orders** have been considered for the calculations.\n"
   ]
  },
  {
   "cell_type": "code",
   "execution_count": null,
   "metadata": {
    "application/vnd.databricks.v1+cell": {
     "cellMetadata": {
      "byteLimit": 2048000,
      "rowLimit": 10000
     },
     "inputWidgets": {},
     "nuid": "39934dda-4709-4782-ab71-0f79b2309244",
     "showTitle": false,
     "title": ""
    }
   },
   "outputs": [
    {
     "name": "stdout",
     "output_type": "stream",
     "text": [
      "+------+----------------+------------------+---------+------------------+\n",
      "|CustID|        FullName|Last_Purchase_Date|Frequency|          Monetary|\n",
      "+------+----------------+------------------+---------+------------------+\n",
      "|     4| Doughty, Reggie|        2021-09-29|       18| 21635.94997024536|\n",
      "|    15| Diebold, Debbie|        2021-02-11|        3|216.80000114440918|\n",
      "|    20|    Pulver, Eddy|        2021-09-29|        7| 23702.40003967285|\n",
      "|    21|       Kan, Adam|        2021-02-03|        1|             105.0|\n",
      "|    23|Bostwick, Roscoe|        2021-08-07|        2|393.23999786376953|\n",
      "+------+----------------+------------------+---------+------------------+\n",
      "only showing top 5 rows\n",
      "\n"
     ]
    }
   ],
   "source": [
    "# Calculate \"Frequency\" and \"Monetary\" fields along with the last purchase date\n",
    "\n",
    "import datetime\n",
    "from pyspark.sql.functions import lit,ceil, datediff\n",
    "\n",
    "rfm_df = completed_customer_orders.groupBy(['CustID','FullName']).agg( max(\"Order_Date\").alias(\"Last_Purchase_Date\"), countDistinct(\"OrderID\").alias(\"Frequency\"),sum(\"Total\").alias(\"Monetary\")).orderBy(\"CustID\",ascending=True)\n",
    "\n",
    "rfm_df.show(5)"
   ]
  },
  {
   "cell_type": "code",
   "execution_count": null,
   "metadata": {
    "application/vnd.databricks.v1+cell": {
     "cellMetadata": {
      "byteLimit": 2048000,
      "rowLimit": 10000
     },
     "inputWidgets": {},
     "nuid": "72bfd4a7-515b-4490-8705-8e7a23fb2218",
     "showTitle": false,
     "title": ""
    }
   },
   "outputs": [
    {
     "name": "stdout",
     "output_type": "stream",
     "text": [
      "+------+----------------+------------------+---------+------------------+--------------+-------+\n",
      "|CustID|        FullName|Last_Purchase_Date|Frequency|          Monetary|Reference_Date|Recency|\n",
      "+------+----------------+------------------+---------+------------------+--------------+-------+\n",
      "|     4| Doughty, Reggie|        2021-09-29|       18| 21635.94997024536|    2021-10-31|      5|\n",
      "|    15| Diebold, Debbie|        2021-02-11|        3|216.80000114440918|    2021-10-31|     38|\n",
      "|    20|    Pulver, Eddy|        2021-09-29|        7| 23702.40003967285|    2021-10-31|      5|\n",
      "|    21|       Kan, Adam|        2021-02-03|        1|             105.0|    2021-10-31|     39|\n",
      "|    23|Bostwick, Roscoe|        2021-08-07|        2|393.23999786376953|    2021-10-31|     13|\n",
      "+------+----------------+------------------+---------+------------------+--------------+-------+\n",
      "only showing top 5 rows\n",
      "\n"
     ]
    }
   ],
   "source": [
    "# Calculate \"Recency\" as the weeks difference between the last_purchase_date and 2021-10-31 (the reference date)\n",
    "\n",
    "reference_date=datetime.date(2021,10,31)\n",
    "\n",
    "rfm_df = rfm_df.withColumn(\"Reference_Date\", lit(reference_date))\n",
    "\n",
    "rfm_df = rfm_df.withColumn('Recency', ceil(datediff('Reference_Date','Last_Purchase_Date')/7))\n",
    "\n",
    "rfm_df.show(5)\n"
   ]
  },
  {
   "cell_type": "code",
   "execution_count": null,
   "metadata": {
    "application/vnd.databricks.v1+cell": {
     "cellMetadata": {
      "byteLimit": 2048000,
      "rowLimit": 10000
     },
     "inputWidgets": {},
     "nuid": "588e865e-0509-4371-b91e-75f1107cfb34",
     "showTitle": false,
     "title": ""
    }
   },
   "outputs": [
    {
     "name": "stdout",
     "output_type": "stream",
     "text": [
      "+------+----------------+-------+---------+------------------+\n",
      "|CustID|        FullName|Recency|Frequency|          Monetary|\n",
      "+------+----------------+-------+---------+------------------+\n",
      "|     4| Doughty, Reggie|      5|       18| 21635.94997024536|\n",
      "|    15| Diebold, Debbie|     38|        3|216.80000114440918|\n",
      "|    20|    Pulver, Eddy|      5|        7| 23702.40003967285|\n",
      "|    21|       Kan, Adam|     39|        1|             105.0|\n",
      "|    23|Bostwick, Roscoe|     13|        2|393.23999786376953|\n",
      "+------+----------------+-------+---------+------------------+\n",
      "only showing top 5 rows\n",
      "\n"
     ]
    }
   ],
   "source": [
    "#Finally, drop the columns Last_Purchase_Date and Reference_Date and re-arrange the columns\n",
    "\n",
    "rfm_df = rfm_df.drop(\"Last_Purchase_Date\", \"Reference_Date\")\n",
    "\n",
    "# Re-arrange the columns\n",
    "rfm_df = rfm_df.select(\"CustID\", \"FullName\", \"Recency\", \"Frequency\", \"Monetary\")\n",
    "\n",
    "# Show the resulting dataframe\n",
    "rfm_df.show(5)"
   ]
  },
  {
   "cell_type": "markdown",
   "metadata": {
    "application/vnd.databricks.v1+cell": {
     "cellMetadata": {
      "byteLimit": 2048000,
      "rowLimit": 10000
     },
     "inputWidgets": {},
     "nuid": "c5ec1257-e018-4a39-8125-e4fe40ad03c9",
     "showTitle": false,
     "title": ""
    }
   },
   "source": [
    "### 3. Create a curated database\n",
    "- And load the above created dataframes into tables"
   ]
  },
  {
   "cell_type": "code",
   "execution_count": null,
   "metadata": {
    "application/vnd.databricks.v1+cell": {
     "cellMetadata": {
      "byteLimit": 2048000,
      "implicitDf": true,
      "rowLimit": 10000
     },
     "inputWidgets": {},
     "nuid": "6945bd75-144f-4df9-a963-f5434ae3f4bb",
     "showTitle": false,
     "title": ""
    }
   },
   "outputs": [
    {
     "data": {
      "text/html": [
       "<style scoped>\n",
       "  .table-result-container {\n",
       "    max-height: 300px;\n",
       "    overflow: auto;\n",
       "  }\n",
       "  table, th, td {\n",
       "    border: 1px solid black;\n",
       "    border-collapse: collapse;\n",
       "  }\n",
       "  th, td {\n",
       "    padding: 5px;\n",
       "  }\n",
       "  th {\n",
       "    text-align: left;\n",
       "  }\n",
       "</style><div class='table-result-container'><table class='table-result'><thead style='background-color: white'><tr></tr></thead><tbody></tbody></table></div>"
      ]
     },
     "metadata": {
      "application/vnd.databricks.v1+output": {
       "addedWidgets": {},
       "aggData": [],
       "aggError": "",
       "aggOverflow": false,
       "aggSchema": [],
       "aggSeriesLimitReached": false,
       "aggType": "",
       "arguments": {},
       "columnCustomDisplayInfos": {},
       "data": [],
       "datasetInfos": [],
       "dbfsResultPath": null,
       "isJsonSchema": true,
       "metadata": {},
       "overflow": false,
       "plotOptions": {
        "customPlotOptions": {},
        "displayType": "table",
        "pivotAggregation": null,
        "pivotColumns": null,
        "xColumns": null,
        "yColumns": null
       },
       "removedWidgets": [],
       "schema": [],
       "type": "table"
      }
     },
     "output_type": "display_data"
    }
   ],
   "source": [
    "%sql\n",
    "\n",
    "DROP DATABASE IF EXISTS curated CASCADE;\n",
    "\n",
    "CREATE DATABASE curated; "
   ]
  },
  {
   "cell_type": "code",
   "execution_count": null,
   "metadata": {
    "application/vnd.databricks.v1+cell": {
     "cellMetadata": {
      "byteLimit": 2048000,
      "implicitDf": true,
      "rowLimit": 10000
     },
     "inputWidgets": {},
     "nuid": "d6180099-15dc-4b32-8d11-4f3b25854683",
     "showTitle": false,
     "title": ""
    }
   },
   "outputs": [
    {
     "data": {
      "text/html": [
       "<style scoped>\n",
       "  .table-result-container {\n",
       "    max-height: 300px;\n",
       "    overflow: auto;\n",
       "  }\n",
       "  table, th, td {\n",
       "    border: 1px solid black;\n",
       "    border-collapse: collapse;\n",
       "  }\n",
       "  th, td {\n",
       "    padding: 5px;\n",
       "  }\n",
       "  th {\n",
       "    text-align: left;\n",
       "  }\n",
       "</style><div class='table-result-container'><table class='table-result'><thead style='background-color: white'><tr></tr></thead><tbody></tbody></table></div>"
      ]
     },
     "metadata": {
      "application/vnd.databricks.v1+output": {
       "addedWidgets": {},
       "aggData": [],
       "aggError": "",
       "aggOverflow": false,
       "aggSchema": [],
       "aggSeriesLimitReached": false,
       "aggType": "",
       "arguments": {},
       "columnCustomDisplayInfos": {},
       "data": [],
       "datasetInfos": [],
       "dbfsResultPath": null,
       "isJsonSchema": true,
       "metadata": {},
       "overflow": false,
       "plotOptions": {
        "customPlotOptions": {},
        "displayType": "table",
        "pivotAggregation": null,
        "pivotColumns": null,
        "xColumns": null,
        "yColumns": null
       },
       "removedWidgets": [],
       "schema": [],
       "type": "table"
      }
     },
     "output_type": "display_data"
    }
   ],
   "source": [
    "%sql\n",
    "\n",
    "DROP TABLE IF EXISTS curated.completed_orders_metrics;\n",
    "DROP TABLE IF EXISTS curated.refunded_orders_metrics;\n",
    "DROP TABLE IF EXISTS curated.other_orders_metrics;\n",
    "DROP TABLE IF EXISTS curated.completed_customer_orders;\n",
    "DROP TABLE IF EXISTS curated.rfm_metrics;"
   ]
  },
  {
   "cell_type": "code",
   "execution_count": null,
   "metadata": {
    "application/vnd.databricks.v1+cell": {
     "cellMetadata": {
      "byteLimit": 2048000,
      "rowLimit": 10000
     },
     "inputWidgets": {},
     "nuid": "30f3e071-bbc9-42fc-9a60-83c359a351bc",
     "showTitle": false,
     "title": ""
    }
   },
   "outputs": [],
   "source": [
    "#Run the following commands to load the dataframes into tables in the curated database.\n",
    "\n",
    "completed_orders_metrics.write.saveAsTable(\"curated.completed_orders_metrics\")\n",
    "\n",
    "refunded_orders_metrics.write.saveAsTable(\"curated.refunded_orders_metrics\")\n",
    "\n",
    "other_orders_metrics.write.saveAsTable(\"curated.other_orders_metrics\")\n",
    "\n",
    "completed_customer_orders.write.saveAsTable(\"curated.completed_customer_orders\")\n",
    "\n",
    "rfm_df.write.saveAsTable(\"curated.rfm_metrics\")"
   ]
  },
  {
   "cell_type": "markdown",
   "metadata": {
    "application/vnd.databricks.v1+cell": {
     "cellMetadata": {
      "byteLimit": 2048000,
      "rowLimit": 10000
     },
     "inputWidgets": {},
     "nuid": "26afbcc8-886b-4123-be10-0331024a7bec",
     "showTitle": false,
     "title": ""
    }
   },
   "source": [
    "#### Check the curated tables"
   ]
  },
  {
   "cell_type": "code",
   "execution_count": null,
   "metadata": {
    "application/vnd.databricks.v1+cell": {
     "cellMetadata": {
      "byteLimit": 2048000,
      "implicitDf": true,
      "rowLimit": 10000
     },
     "inputWidgets": {},
     "nuid": "21922374-a12f-40a4-a1dc-c396d6935054",
     "showTitle": false,
     "title": ""
    }
   },
   "outputs": [
    {
     "data": {
      "text/html": [
       "<style scoped>\n",
       "  .table-result-container {\n",
       "    max-height: 300px;\n",
       "    overflow: auto;\n",
       "  }\n",
       "  table, th, td {\n",
       "    border: 1px solid black;\n",
       "    border-collapse: collapse;\n",
       "  }\n",
       "  th, td {\n",
       "    padding: 5px;\n",
       "  }\n",
       "  th {\n",
       "    text-align: left;\n",
       "  }\n",
       "</style><div class='table-result-container'><table class='table-result'><thead style='background-color: white'><tr><th>database</th><th>tableName</th><th>isTemporary</th></tr></thead><tbody><tr><td>curated</td><td>completed_customer_orders</td><td>false</td></tr><tr><td>curated</td><td>completed_orders_metrics</td><td>false</td></tr><tr><td>curated</td><td>other_orders_metrics</td><td>false</td></tr><tr><td>curated</td><td>refunded_orders_metrics</td><td>false</td></tr><tr><td>curated</td><td>rfm_metrics</td><td>false</td></tr></tbody></table></div>"
      ]
     },
     "metadata": {
      "application/vnd.databricks.v1+output": {
       "addedWidgets": {},
       "aggData": [],
       "aggError": "",
       "aggOverflow": false,
       "aggSchema": [],
       "aggSeriesLimitReached": false,
       "aggType": "",
       "arguments": {},
       "columnCustomDisplayInfos": {},
       "data": [
        [
         "curated",
         "completed_customer_orders",
         false
        ],
        [
         "curated",
         "completed_orders_metrics",
         false
        ],
        [
         "curated",
         "other_orders_metrics",
         false
        ],
        [
         "curated",
         "refunded_orders_metrics",
         false
        ],
        [
         "curated",
         "rfm_metrics",
         false
        ]
       ],
       "datasetInfos": [],
       "dbfsResultPath": null,
       "isJsonSchema": true,
       "metadata": {},
       "overflow": false,
       "plotOptions": {
        "customPlotOptions": {},
        "displayType": "table",
        "pivotAggregation": null,
        "pivotColumns": null,
        "xColumns": null,
        "yColumns": null
       },
       "removedWidgets": [],
       "schema": [
        {
         "metadata": "{}",
         "name": "database",
         "type": "\"string\""
        },
        {
         "metadata": "{}",
         "name": "tableName",
         "type": "\"string\""
        },
        {
         "metadata": "{}",
         "name": "isTemporary",
         "type": "\"boolean\""
        }
       ],
       "type": "table"
      }
     },
     "output_type": "display_data"
    }
   ],
   "source": [
    "%sql\n",
    "\n",
    "USE curated;\n",
    "SHOW TABLES;"
   ]
  },
  {
   "cell_type": "code",
   "execution_count": null,
   "metadata": {
    "application/vnd.databricks.v1+cell": {
     "cellMetadata": {
      "byteLimit": 2048000,
      "implicitDf": true,
      "rowLimit": 10000
     },
     "inputWidgets": {},
     "nuid": "8cc84022-f57c-4c10-a283-2f41531c1464",
     "showTitle": false,
     "title": ""
    }
   },
   "outputs": [
    {
     "data": {
      "text/html": [
       "<style scoped>\n",
       "  .table-result-container {\n",
       "    max-height: 300px;\n",
       "    overflow: auto;\n",
       "  }\n",
       "  table, th, td {\n",
       "    border: 1px solid black;\n",
       "    border-collapse: collapse;\n",
       "  }\n",
       "  th, td {\n",
       "    padding: 5px;\n",
       "  }\n",
       "  th {\n",
       "    text-align: left;\n",
       "  }\n",
       "</style><div class='table-result-container'><table class='table-result'><thead style='background-color: white'><tr><th>Category</th><th>Year</th><th>Month_Year</th><th>Revenue</th><th>TotalOrders</th></tr></thead><tbody><tr><td>Entertainment</td><td>2020</td><td>Dec-2020</td><td>5507960.012482643</td><td>3031</td></tr><tr><td>Appliances</td><td>2020</td><td>Dec-2020</td><td>5082387.872704029</td><td>6989</td></tr><tr><td>Superstore</td><td>2020</td><td>Dec-2020</td><td>90084.55527067184</td><td>660</td></tr><tr><td>School & Education</td><td>2020</td><td>Dec-2020</td><td>2807.4824171066284</td><td>51</td></tr><tr><td>Home & Living</td><td>2020</td><td>Dec-2020</td><td>186017.76805210114</td><td>1724</td></tr><tr><td>Women's Fashion</td><td>2020</td><td>Dec-2020</td><td>598978.1214361191</td><td>2623</td></tr><tr><td>Kids & Baby</td><td>2020</td><td>Dec-2020</td><td>57219.67628479004</td><td>640</td></tr><tr><td>Others</td><td>2020</td><td>Dec-2020</td><td>2388.3879946395755</td><td>47</td></tr><tr><td>Men's Fashion</td><td>2020</td><td>Dec-2020</td><td>714339.7039384842</td><td>5538</td></tr><tr><td>Computing</td><td>2020</td><td>Dec-2020</td><td>1252693.5991449356</td><td>1173</td></tr></tbody></table></div>"
      ]
     },
     "metadata": {
      "application/vnd.databricks.v1+output": {
       "addedWidgets": {},
       "aggData": [],
       "aggError": "",
       "aggOverflow": false,
       "aggSchema": [],
       "aggSeriesLimitReached": false,
       "aggType": "",
       "arguments": {},
       "columnCustomDisplayInfos": {},
       "data": [
        [
         "Entertainment",
         2020,
         "Dec-2020",
         5507960.012482643,
         3031
        ],
        [
         "Appliances",
         2020,
         "Dec-2020",
         5082387.872704029,
         6989
        ],
        [
         "Superstore",
         2020,
         "Dec-2020",
         90084.55527067184,
         660
        ],
        [
         "School & Education",
         2020,
         "Dec-2020",
         2807.4824171066284,
         51
        ],
        [
         "Home & Living",
         2020,
         "Dec-2020",
         186017.76805210114,
         1724
        ],
        [
         "Women's Fashion",
         2020,
         "Dec-2020",
         598978.1214361191,
         2623
        ],
        [
         "Kids & Baby",
         2020,
         "Dec-2020",
         57219.67628479004,
         640
        ],
        [
         "Others",
         2020,
         "Dec-2020",
         2388.3879946395755,
         47
        ],
        [
         "Men's Fashion",
         2020,
         "Dec-2020",
         714339.7039384842,
         5538
        ],
        [
         "Computing",
         2020,
         "Dec-2020",
         1252693.5991449356,
         1173
        ]
       ],
       "datasetInfos": [],
       "dbfsResultPath": null,
       "isJsonSchema": true,
       "metadata": {},
       "overflow": false,
       "plotOptions": {
        "customPlotOptions": {},
        "displayType": "table",
        "pivotAggregation": null,
        "pivotColumns": null,
        "xColumns": null,
        "yColumns": null
       },
       "removedWidgets": [],
       "schema": [
        {
         "metadata": "{}",
         "name": "Category",
         "type": "\"string\""
        },
        {
         "metadata": "{}",
         "name": "Year",
         "type": "\"integer\""
        },
        {
         "metadata": "{}",
         "name": "Month_Year",
         "type": "\"string\""
        },
        {
         "metadata": "{}",
         "name": "Revenue",
         "type": "\"double\""
        },
        {
         "metadata": "{}",
         "name": "TotalOrders",
         "type": "\"long\""
        }
       ],
       "type": "table"
      }
     },
     "output_type": "display_data"
    }
   ],
   "source": [
    "%sql\n",
    "\n",
    "SELECT * \n",
    "FROM curated.completed_orders_metrics \n",
    "limit 10;"
   ]
  },
  {
   "cell_type": "code",
   "execution_count": null,
   "metadata": {
    "application/vnd.databricks.v1+cell": {
     "cellMetadata": {
      "byteLimit": 2048000,
      "implicitDf": true,
      "rowLimit": 10000
     },
     "inputWidgets": {},
     "nuid": "04221fe0-0631-4692-9487-5b604a0ca8c4",
     "showTitle": false,
     "title": ""
    }
   },
   "outputs": [
    {
     "data": {
      "text/html": [
       "<style scoped>\n",
       "  .table-result-container {\n",
       "    max-height: 300px;\n",
       "    overflow: auto;\n",
       "  }\n",
       "  table, th, td {\n",
       "    border: 1px solid black;\n",
       "    border-collapse: collapse;\n",
       "  }\n",
       "  th, td {\n",
       "    padding: 5px;\n",
       "  }\n",
       "  th {\n",
       "    text-align: left;\n",
       "  }\n",
       "</style><div class='table-result-container'><table class='table-result'><thead style='background-color: white'><tr><th>CustID</th><th>FullName</th><th>Recency</th><th>Frequency</th><th>Monetary</th></tr></thead><tbody><tr><td>4</td><td>Doughty, Reggie</td><td>5</td><td>18</td><td>21635.94997024536</td></tr><tr><td>15</td><td>Diebold, Debbie</td><td>38</td><td>3</td><td>216.80000114440918</td></tr><tr><td>20</td><td>Pulver, Eddy</td><td>5</td><td>7</td><td>23702.40003967285</td></tr><tr><td>21</td><td>Kan, Adam</td><td>39</td><td>1</td><td>105.0</td></tr><tr><td>23</td><td>Bostwick, Roscoe</td><td>13</td><td>2</td><td>393.23999786376953</td></tr><tr><td>28</td><td>Drain, Reinaldo</td><td>55</td><td>1</td><td>70.0</td></tr><tr><td>32</td><td>Horne, Reginald</td><td>7</td><td>97</td><td>47835.18991851807</td></tr><tr><td>33</td><td>Rapoza, Darnell</td><td>11</td><td>49</td><td>32907.73117160797</td></tr><tr><td>41</td><td>Batty, Angelo</td><td>50</td><td>1</td><td>219.89999389648438</td></tr><tr><td>44</td><td>Ro, Kendall</td><td>21</td><td>3</td><td>4143.3790283203125</td></tr></tbody></table></div>"
      ]
     },
     "metadata": {
      "application/vnd.databricks.v1+output": {
       "addedWidgets": {},
       "aggData": [],
       "aggError": "",
       "aggOverflow": false,
       "aggSchema": [],
       "aggSeriesLimitReached": false,
       "aggType": "",
       "arguments": {},
       "columnCustomDisplayInfos": {},
       "data": [
        [
         4,
         "Doughty, Reggie",
         5,
         18,
         21635.94997024536
        ],
        [
         15,
         "Diebold, Debbie",
         38,
         3,
         216.80000114440918
        ],
        [
         20,
         "Pulver, Eddy",
         5,
         7,
         23702.40003967285
        ],
        [
         21,
         "Kan, Adam",
         39,
         1,
         105
        ],
        [
         23,
         "Bostwick, Roscoe",
         13,
         2,
         393.23999786376953
        ],
        [
         28,
         "Drain, Reinaldo",
         55,
         1,
         70
        ],
        [
         32,
         "Horne, Reginald",
         7,
         97,
         47835.18991851807
        ],
        [
         33,
         "Rapoza, Darnell",
         11,
         49,
         32907.73117160797
        ],
        [
         41,
         "Batty, Angelo",
         50,
         1,
         219.89999389648438
        ],
        [
         44,
         "Ro, Kendall",
         21,
         3,
         4143.3790283203125
        ]
       ],
       "datasetInfos": [],
       "dbfsResultPath": null,
       "isJsonSchema": true,
       "metadata": {},
       "overflow": false,
       "plotOptions": {
        "customPlotOptions": {},
        "displayType": "table",
        "pivotAggregation": null,
        "pivotColumns": null,
        "xColumns": null,
        "yColumns": null
       },
       "removedWidgets": [],
       "schema": [
        {
         "metadata": "{}",
         "name": "CustID",
         "type": "\"integer\""
        },
        {
         "metadata": "{}",
         "name": "FullName",
         "type": "\"string\""
        },
        {
         "metadata": "{}",
         "name": "Recency",
         "type": "\"long\""
        },
        {
         "metadata": "{}",
         "name": "Frequency",
         "type": "\"long\""
        },
        {
         "metadata": "{}",
         "name": "Monetary",
         "type": "\"double\""
        }
       ],
       "type": "table"
      }
     },
     "output_type": "display_data"
    }
   ],
   "source": [
    "%sql\n",
    "\n",
    "SELECT * \n",
    "FROM curated.rfm_metrics\n",
    "limit 10;"
   ]
  }
 ],
 "metadata": {
  "application/vnd.databricks.v1+notebook": {
   "dashboards": [],
   "language": "python",
   "notebookMetadata": {
    "mostRecentlyExecutedCommandWithImplicitDF": {
     "commandId": 1371319005645522,
     "dataframes": [
      "_sqldf"
     ]
    },
    "pythonIndentUnit": 4
   },
   "notebookName": "Group5_Staging_to_Curated",
   "widgets": {}
  },
  "language_info": {
   "name": "python"
  }
 },
 "nbformat": 4,
 "nbformat_minor": 0
}
