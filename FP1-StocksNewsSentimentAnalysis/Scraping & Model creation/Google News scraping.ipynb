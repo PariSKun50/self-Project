{
 "cells": [
  {
   "cell_type": "code",
   "execution_count": 2,
   "id": "a4dc3613",
   "metadata": {},
   "outputs": [
    {
     "name": "stdout",
     "output_type": "stream",
     "text": [
      "Collecting GoogleNews\n",
      "  Downloading GoogleNews-1.6.8-py3-none-any.whl (8.1 kB)\n",
      "Collecting dateparser\n",
      "  Downloading dateparser-1.1.8-py2.py3-none-any.whl (293 kB)\n",
      "\u001b[2K     \u001b[90m━━━━━━━━━━━━━━━━━━━━━━━━━━━━━━━━━━━━━━━\u001b[0m \u001b[32m293.8/293.8 kB\u001b[0m \u001b[31m5.6 MB/s\u001b[0m eta \u001b[36m0:00:00\u001b[0m00:01\u001b[0m\n",
      "\u001b[?25hRequirement already satisfied: python-dateutil in /Users/akin/anaconda3/lib/python3.10/site-packages (from GoogleNews) (2.8.2)\n",
      "Requirement already satisfied: beautifulsoup4 in /Users/akin/anaconda3/lib/python3.10/site-packages (from GoogleNews) (4.11.1)\n",
      "Requirement already satisfied: soupsieve>1.2 in /Users/akin/anaconda3/lib/python3.10/site-packages (from beautifulsoup4->GoogleNews) (2.3.2.post1)\n",
      "Requirement already satisfied: regex!=2019.02.19,!=2021.8.27 in /Users/akin/anaconda3/lib/python3.10/site-packages (from dateparser->GoogleNews) (2022.7.9)\n",
      "Requirement already satisfied: pytz in /Users/akin/anaconda3/lib/python3.10/site-packages (from dateparser->GoogleNews) (2022.7)\n",
      "Collecting tzlocal\n",
      "  Downloading tzlocal-5.0.1-py3-none-any.whl (20 kB)\n",
      "Requirement already satisfied: six>=1.5 in /Users/akin/anaconda3/lib/python3.10/site-packages (from python-dateutil->GoogleNews) (1.16.0)\n",
      "Installing collected packages: tzlocal, dateparser, GoogleNews\n",
      "Successfully installed GoogleNews-1.6.8 dateparser-1.1.8 tzlocal-5.0.1\n",
      "Note: you may need to restart the kernel to use updated packages.\n"
     ]
    }
   ],
   "source": [
    "pip install GoogleNews"
   ]
  },
  {
   "cell_type": "code",
   "execution_count": 15,
   "id": "3db27012",
   "metadata": {},
   "outputs": [],
   "source": [
    "from tpot import TPOTClassifier\n",
    "import re\n",
    "import pandas as pd\n",
    "from sklearn.model_selection import train_test_split\n",
    "from sklearn.preprocessing import LabelEncoder\n",
    "from sklearn.metrics import get_scorer_names, get_scorer\n",
    "import time\n",
    "from GoogleNews import GoogleNews\n",
    "from datetime import datetime, timedelta"
   ]
  },
  {
   "cell_type": "code",
   "execution_count": 23,
   "id": "99a4b4bc",
   "metadata": {},
   "outputs": [
    {
     "data": {
      "text/html": [
       "<div>\n",
       "<style scoped>\n",
       "    .dataframe tbody tr th:only-of-type {\n",
       "        vertical-align: middle;\n",
       "    }\n",
       "\n",
       "    .dataframe tbody tr th {\n",
       "        vertical-align: top;\n",
       "    }\n",
       "\n",
       "    .dataframe thead th {\n",
       "        text-align: right;\n",
       "    }\n",
       "</style>\n",
       "<table border=\"1\" class=\"dataframe\">\n",
       "  <thead>\n",
       "    <tr style=\"text-align: right;\">\n",
       "      <th></th>\n",
       "      <th>sNo</th>\n",
       "      <th>Company Name</th>\n",
       "      <th>URL</th>\n",
       "    </tr>\n",
       "  </thead>\n",
       "  <tbody>\n",
       "    <tr>\n",
       "      <th>0</th>\n",
       "      <td>1</td>\n",
       "      <td>ABFRL</td>\n",
       "      <td>https://www.tickertape.in/stocks/aditya-birla-...</td>\n",
       "    </tr>\n",
       "    <tr>\n",
       "      <th>1</th>\n",
       "      <td>2</td>\n",
       "      <td>ACC</td>\n",
       "      <td>https://www.tickertape.in/stocks/acc-ACC</td>\n",
       "    </tr>\n",
       "  </tbody>\n",
       "</table>\n",
       "</div>"
      ],
      "text/plain": [
       "   sNo Company Name                                                URL\n",
       "0    1        ABFRL  https://www.tickertape.in/stocks/aditya-birla-...\n",
       "1    2          ACC           https://www.tickertape.in/stocks/acc-ACC"
      ]
     },
     "execution_count": 23,
     "metadata": {},
     "output_type": "execute_result"
    }
   ],
   "source": [
    "company_data = pd.read_csv('companyListURL.tsv', delimiter='\\t',encoding='utf-8')\n",
    "first_two_rows = company_data.head(2)\n",
    "first_two_rows.head()"
   ]
  },
  {
   "cell_type": "code",
   "execution_count": 24,
   "id": "49909b81",
   "metadata": {},
   "outputs": [
    {
     "name": "stdout",
     "output_type": "stream",
     "text": [
      "HTTP Error 429: Too Many Requests\n",
      "HTTP Error 429: Too Many Requests\n",
      "0\n",
      "HTTP Error 429: Too Many Requests\n",
      "HTTP Error 429: Too Many Requests\n",
      "0\n",
      "Empty DataFrame\n",
      "Columns: []\n",
      "Index: []\n"
     ]
    }
   ],
   "source": [
    "company_name_all = first_two_rows['Company Name']\n",
    "all_results = []  # Create an empty list to store the results\n",
    "\n",
    "for company_name in company_name_all:\n",
    "    if company_name != '':\n",
    "        googlenews = GoogleNews()\n",
    "        googlenews.search(company_name)\n",
    "        end_date = datetime.now()\n",
    "        start_date = end_date - timedelta(hours=1)  # Select news from the last 1 hour\n",
    "        start_date_str = start_date.strftime('%Y-%m-%d %H:%M:%S')\n",
    "        end_date_str = end_date.strftime('%Y-%m-%d %H:%M:%S')\n",
    "        googlenews.set_time_range(start_date_str, end_date_str)\n",
    "        googlenews.search(company_name)\n",
    "        result = googlenews.result()\n",
    "        total_count = googlenews.total_count()\n",
    "        print(total_count)\n",
    "        company_link_df = pd.DataFrame(result[:100])  # Limit to 100 articles per company\n",
    "        all_results.append(company_link_df)  # Append the results to the list\n",
    "\n",
    "combined_results = pd.concat(all_results)  # Concatenate all the results into a single DataFrame\n",
    "print(combined_results)"
   ]
  },
  {
   "cell_type": "code",
   "execution_count": 25,
   "id": "f68f1758",
   "metadata": {},
   "outputs": [],
   "source": [
    "try:\n",
    "    list =[] #creating an empty list \n",
    "    for i in combined_results.index:\n",
    "        dict = {} #creating an empty dictionary to append an article in every single iteration\n",
    "        news_article = Article(combined_results['link'][i],config=config) #providing the link\n",
    "        try:\n",
    "          news_article.download()\n",
    "          news_article.parse()\n",
    "          news_article.nlp()\n",
    "        except:\n",
    "           pass \n",
    "        \n",
    "        dict['NewsDate']=combined_results['datetime'][i]\n",
    "        dict['NewsTitle']=news_article.title\n",
    "        dict['NewsArticle']=news_article.text\n",
    "        dict['Summary']=news_article.summary\n",
    "        list.append(dict)\n",
    "    empty = not any(list)\n",
    "    \n",
    "    if empty == False:\n",
    "        news_article_df=pd.DataFrame(list)\n",
    "        print(news_article_df)\n",
    "\n",
    "except Exception as e:\n",
    "    #exception handling\n",
    "    print(\"error occurred:\" + str(e))\n",
    "    print('----------' )"
   ]
  },
  {
   "cell_type": "code",
   "execution_count": null,
   "id": "01393bda",
   "metadata": {},
   "outputs": [],
   "source": [
    "def percentage(part,whole):\n",
    "    return 100 * float(part)/float(whole)\n",
    "\n",
    "positive = 0\n",
    "negative = 0\n",
    "neutral = 0\n",
    "newssentiment={}\n",
    "\n",
    "for news_article in news_article_df['Summary']:\n",
    "    analyzer = SentimentIntensityAnalyzer().polarity_scores(news)\n",
    "    negative = analyzer['neg']\n",
    "    neutral = analyzer['neu']\n",
    "    positive = analyzer['pos']\n",
    "    compound = analyzer['compound']\n",
    "    print(neg,pos,neu,comp)\n",
    "    newssentiment.setdefault('Negative',[]).append(negative)\n",
    "    newssentiment.setdefault('Positive',[]).append(positive)\n",
    "    newssentiment.setdefault('Neutral',[]).append(neutral)\n",
    "    newssentiment.setdefault('Comp',[]).append(compound)\n",
    "NewsSentimentDF=pd.DataFrame(newssentiment)\n",
    "NewsSentimentDF"
   ]
  },
  {
   "cell_type": "code",
   "execution_count": null,
   "id": "17310bda",
   "metadata": {},
   "outputs": [],
   "source": [
    "NewsArticleSentimentDF=pd.concat([news_article_df,NewsSentimentDF],axis=1)\n",
    "NewsArticleSentimentDF"
   ]
  },
  {
   "cell_type": "code",
   "execution_count": null,
   "id": "36cd6bcf",
   "metadata": {},
   "outputs": [],
   "source": [
    "NewsArticleSentimentDF.to_excel('NewsArticleSentiment.xlsx')"
   ]
  }
 ],
 "metadata": {
  "kernelspec": {
   "display_name": "Python 3 (ipykernel)",
   "language": "python",
   "name": "python3"
  },
  "language_info": {
   "codemirror_mode": {
    "name": "ipython",
    "version": 3
   },
   "file_extension": ".py",
   "mimetype": "text/x-python",
   "name": "python",
   "nbconvert_exporter": "python",
   "pygments_lexer": "ipython3",
   "version": "3.10.9"
  }
 },
 "nbformat": 4,
 "nbformat_minor": 5
}
