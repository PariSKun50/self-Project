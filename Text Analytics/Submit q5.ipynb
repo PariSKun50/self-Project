{
 "cells": [
  {
   "cell_type": "markdown",
   "id": "AB31ojvs_LB4",
   "metadata": {
    "id": "AB31ojvs_LB4"
   },
   "source": [
    "In the below code, we have imported two libraries libraries, summa and spacy, for text summarization, as well as json.\n",
    "\n",
    "1. summa Library:\n",
    "The summa library is a Python package that provides various text summarization methods. It is used to generate a summary of a given text document.\n",
    "\n",
    "2. json Library:\n",
    "The json library is a built-in Python library used for working with JSON (JavaScript Object Notation) data. It provides functions for encoding, decoding, and manipulating JSON data.\n",
    "\n",
    "3. spacy Library:\n",
    "The spacy library is an open-source natural language processing (NLP) library for Python. It provides various functionalities for processing and analyzing text data."
   ]
  },
  {
   "cell_type": "code",
   "execution_count": 40,
   "id": "0259e854",
   "metadata": {
    "id": "0259e854"
   },
   "outputs": [],
   "source": [
    "from summa import summarizer\n",
    "import json\n",
    "import spacy as spacy"
   ]
  },
  {
   "cell_type": "markdown",
   "id": "Cou0t29BAN_3",
   "metadata": {
    "id": "Cou0t29BAN_3"
   },
   "source": [
    "The below code defines a function called summarize_reviews that takes two parameters: reviews and target_words. This function aims to generate a summary of a collection of reviews.\n",
    "\n",
    "1. Concatenating Reviews:\n",
    "The function begins by concatenating the individual review texts into a single document. The reviews parameter is expected to be a list or iterable containing the review texts. The join() function is used to concatenate the texts, separating them with a space. The resulting concatenated text is stored in the document variable.\n",
    "\n",
    "2. Generating the Summary:\n",
    "The code then utilizes the summarizer module from the summa library to generate the summary. The summarizer.summarize() function is called with two arguments: the document variable containing the concatenated text and the target_words parameter.\n",
    "\n",
    "3. Returning the Summary:\n",
    "Finally, the function returns the generated summary using the return statement. The summary can be captured and used by the calling code."
   ]
  },
  {
   "cell_type": "code",
   "execution_count": 41,
   "id": "bc991093",
   "metadata": {
    "id": "bc991093"
   },
   "outputs": [],
   "source": [
    "def summarize_reviews(reviews, target_words):\n",
    "    # Concatenate the review texts into a single document\n",
    "    document = ' '.join(reviews)\n",
    "    \n",
    "    # Generate the summary using the Summa summarizer\n",
    "    summary = summarizer.summarize(document, words=target_words)\n",
    "    \n",
    "    return summary"
   ]
  },
  {
   "cell_type": "markdown",
   "id": "ILW-11hbBDj8",
   "metadata": {
    "id": "ILW-11hbBDj8"
   },
   "source": [
    "The below code reads the contents of the our text file named \"dataset.txt\" and stores the lines of the file in a list variable called lines. The readlines() method reads all the lines from the file and returns them as a list, where each line of the file becomes an element in the list. The resulting list of lines is stored in the variable lines. Each line of the file is represented as a separate element in the list."
   ]
  },
  {
   "cell_type": "code",
   "execution_count": 42,
   "id": "05d7adce",
   "metadata": {
    "id": "05d7adce"
   },
   "outputs": [],
   "source": [
    "# Read the dataset from the text file\n",
    "with open(\"dataset.txt\", \"r\", encoding=\"utf-8\") as file:\n",
    "    lines = file.readlines()"
   ]
  },
  {
   "cell_type": "markdown",
   "id": "q2uJuXOCB2YZ",
   "metadata": {
    "id": "q2uJuXOCB2YZ"
   },
   "source": [
    "The below code parses each line from the lines list as a JSON object and creates a new list called dataset containing these parsed JSON objects.\n",
    "\n",
    "1. line.strip() removes any leading or trailing whitespace characters from the line.\n",
    "2. json.loads() is a function from the json library that converts a JSON-formatted string into a Python object. It takes a string as input and returns the corresponding Python object (e.g., dictionary, list, etc.) represented by the JSON string."
   ]
  },
  {
   "cell_type": "code",
   "execution_count": 43,
   "id": "67ec73aa",
   "metadata": {
    "id": "67ec73aa"
   },
   "outputs": [],
   "source": [
    "# Parse each line as a JSON object\n",
    "dataset = [json.loads(line.strip()) for line in lines]"
   ]
  },
  {
   "cell_type": "markdown",
   "id": "HPcu_6ctCDTv",
   "metadata": {
    "id": "HPcu_6ctCDTv"
   },
   "source": [
    "The below code extracts the first 1000 reviews with a rating of 1.0 from a dataset and stores them in a list called reviewFor1"
   ]
  },
  {
   "cell_type": "code",
   "execution_count": 44,
   "id": "82d004f0",
   "metadata": {
    "id": "82d004f0"
   },
   "outputs": [],
   "source": [
    "# Extract the first 1000 \"rating-1.0\" reviews\n",
    "reviewFor1 = []\n",
    "for review in dataset:\n",
    "    if review[\"overall\"] == 1.0:\n",
    "        reviewFor1.append(review[\"reviewText\"])\n",
    "reviewFor1 = reviewFor1[:1000]"
   ]
  },
  {
   "cell_type": "markdown",
   "id": "Lta_p4Q5Cn0j",
   "metadata": {
    "id": "Lta_p4Q5Cn0j"
   },
   "source": [
    "The below code generates a summary for the \"rating-1.0\" reviews by calling the summarize_reviews() function with the reviewFor1 list and a target word count determined as 1% of the original word count of the reviews.\n",
    "\n",
    "After executing this code, the summaryFor1 variable will contain the summary generated for the \"rating-1.0\" reviews."
   ]
  },
  {
   "cell_type": "code",
   "execution_count": 45,
   "id": "d3a5b2f0",
   "metadata": {
    "id": "d3a5b2f0"
   },
   "outputs": [],
   "source": [
    "# Generate the summary for \"rating-1.0\" reviews (1% of the original word count)\n",
    "summaryFor1 = summarize_reviews(reviewFor1, target_words=len(' '.join(reviewFor1)) * 0.01)"
   ]
  },
  {
   "cell_type": "markdown",
   "id": "Te2384VSDAD7",
   "metadata": {
    "id": "Te2384VSDAD7"
   },
   "source": [
    "The below code extracts the first 1000 reviews with a rating of 5.0 from a dataset and stores them in a list called reviewFor5"
   ]
  },
  {
   "cell_type": "code",
   "execution_count": 46,
   "id": "c52ebecc",
   "metadata": {
    "id": "c52ebecc"
   },
   "outputs": [],
   "source": [
    "# Extract the first 1000 \"rating-5.0\" reviews\n",
    "reviewFor5 = []\n",
    "for review in dataset:\n",
    "    if review[\"overall\"] == 5.0:\n",
    "        reviewFor5.append(review[\"reviewText\"])\n",
    "reviewFor5 = reviewFor5[:1000]"
   ]
  },
  {
   "cell_type": "markdown",
   "id": "1C0dqzgtDS3l",
   "metadata": {
    "id": "1C0dqzgtDS3l"
   },
   "source": [
    "The below code generates a summary for the \"rating-5.0\" reviews by calling the summarize_reviews() function with the reviewFor5 list and a target word count of approximately 300 words.\n",
    "\n",
    "After executing this code, the summaryFor5 variable will contain the summary generated for the \"rating-5.0\" reviews, which is limited to approximately 300 words."
   ]
  },
  {
   "cell_type": "code",
   "execution_count": 47,
   "id": "92b84d1c",
   "metadata": {
    "id": "92b84d1c"
   },
   "outputs": [],
   "source": [
    "# Generate the summary for \"rating-5.0\" reviews (approximately 300 words)\n",
    "summaryFor5 = summarize_reviews(reviewFor5, target_words=300)"
   ]
  },
  {
   "cell_type": "code",
   "execution_count": 48,
   "id": "f98f30f4",
   "metadata": {
    "id": "f98f30f4",
    "outputId": "5f260bd1-85fc-4d53-bee6-1e27332188ce"
   },
   "outputs": [
    {
     "name": "stdout",
     "output_type": "stream",
     "text": [
      "Summary of rating-1.0 reviews (1% of the original word count):\n",
      "it worked for the first week then it only charge my phone to 20%.\n",
      "good reason to buy a case, just not this one.my co-worker delayed in getting a case because he could not find one he liked, and broke the display screen, making his phone unusable.\n",
      "The Phone charger works, it charges the phone.\n",
      "However, while the phone is charging it continually beeps as when the battery is too low.It will not stop beeping while it is charging until the battery reaches a certain percentage.I do not think this is the correct charger to be using on the phone I have.Now I am worried based on other reviewers that the battery may blow on the phone and I'll have to replace that too.I would not recommend buying this charger.The charger from my old blackberry works better.\n",
      "Really poor quality tweezer bent like nothing screw drivers made of cheap plastic adhesive removing tool again cheap plastic you get what you pay for would not recommend to anyone who is trying to perform phone surgery I received it today and it doesn't charge.\n",
      "This did not stop Amazon.com from selling me the phone, nor T-Mobile from transferring my existing (working) AT&amp;T number to their service (of course, this took two weeks and &gt; 10 phone calls).After receiving no reception, I called T-Mobile and was informed that they do not actually cover my area.I called AT&amp;T back, and they happily attempted to restore my account, only to find that T-Mobile refused to release the numbers.After a month of essentially no coverage from anyone, my phones are happily back on AT&amp;T where they belong.The bad news is that T-Mobile has sent me a bill for more than double the quoted monthly rate and Amazon.com has not refunded my purchase price.Even in areas where I could get coverage, the phone itself did not work well.\n",
      "I plugged it up for a couple of hours and tried to pair it to my new phone and it did not work.\n",
      "was very unhappy with this it didnt work no time i had got it for my husband and i haven heard the last of it from him Bought this phone with Cingular service.\n",
      "The problems we've had include:- random \"white screen of death\"- Bluetooth connectivity problems (isolated to phones)- dropped calls in perfect reception areas- random battery indications- the infamous \"Unable to Charge\" problemAdd to that Motorola's lousy phonebook and UI, and retarded Bluetooth handling (e.g., if any BT device is connected, the same Moto default ring sounds, regardless of sound profile or caller-specific ringtones), and you have an overpriced, overhyped, oversize paperweight.I'm fortunate Cingular offers my company's employees discounts on new phones, so that I can go back to Sony Ericsson.\n",
      "...playing with the plug, I can find one tenuous position about a quarter of the way out where I can hear audio from the phone, but the moment I let it slip it goes back to the screeching.I can't get it to work on anything else either including my wife's Samsung Intensity (which also has a 2.5mm headset jack; same results), but I don't have access to a PalmEvery so often I do something stupid; buying this was one of those occasions.\n",
      "I've tried many combinations of phone and headset, and the only time I have problem is with this headset, so I'm quite sure it's not an issue with my phone, or with bluetooth in general.\n",
      "I have a Treo 650, on Sprint PCS, with a firmware update of 1.08For the most part, I actually like this headset because it is very comfy, and people seem to hear me well (the comfort is a big deal, as I often wear glasses)however, this headset takes a long time to connect with the T650 --- a good 7 to 10 seconds on most calls (and by then, most people have hung up)in addition, the volume is okay in the car (or other isolated places) but forget about using it outside or in noiser environmentsI've heard that it works well with Moto products though ---- for Treo 650 users, I highly recommend the Scala 500, which has fast connection times and loud volumehappy shopping!!!\n",
      "It is beautiful and has great features but it keeps failing I have had 5 of these phones so far (the original purchased one plus 4 refurbished replacements) 1st phone: after a couple of months the screen would not light up / 2nd phone would not charge from the get go / 3rd phone after about a month the screen would no longer light up / 4th phone after a couple of months the screen would not light up / 5th phone has been working for about a month now.\n",
      "but no data, thick and stiff cable, you get what you pay for, keep looking for better cable reviews and pass on this Crap do not buy will not work with any of the phones I have paid under four dollars.\n",
      "(updated)+ Good battery life+ Very comfortable (choice of two ear bud tips, plus extras)+ Easy to use+ Minimal bling appeal (blue light is not obtrusive)- First unit failed (charger, headset buggy) after only 3 weeks use- Jabra Support is lackluster- Ugly shiny mic piece (photo on Amazon is not accurate, see customer images)After three weeks of use, it stopped charging from the AC adapter.\n",
      "On the fourth try the green light disappeared and it wouldn't turn on.I bought this because i loved the Jabra 250 and I still use it, as a matter of fact.I was just really disappointed that something like this (for the price I paid for it) would just stop working for no good reason.I should've bought the plantronics.Don't waste your money on this.\n",
      "Like the previous Motorola phones that I've had, this one has the easy intutive system for navigating its numerous menus --- I'm sold on using Motorola for this reason,  compared to the Noxxxx, Motorola is great!PROS:Almost everythingAwesome designGSMI found the volume to be excellent compared to my last phone (motorola v60).Good antenna, extremely low rate of dropped signals --- also, since the antenna does not protrude, I anticipate it will not require replacement (I had to replace the antenna twice on my old v60 --- broke off from carrying in pocket and/or dropping)Excellent color screen.Good camera for a phone.Great size, easily fits in a shirt pocket.Great battery life (with Bluetooth off)Easily customizable but items that I never use (media mall, media net, etc.) remain in a prominent place and can not be put in some obscure location.CONS:The most significant negative feature is the screen --- it is extremely hard to see in sunlight.Display on front (when closed) is hard to read.Price (if you are upgrading your phone with Cingular --- they wanted $199) However, since I was changing from AT&T; to Cingular I was able to buy the phone at BestBuy for $70.The manual that comes with it should be better writen.Screen gets oily from normal use and must be wiped off frequently.Alarm Clock interface could be better.Date Book Alert is not very loud.Accessory support at Cingular Stores rather poor --- two Cingular Stores did not have the USB cable (had to buy one at Wal-Mart).Of the four or five phones that I have owned, this one is by far the best in all respects.\n",
      "The swivel to use the keypad is awful, no one can ever hear me when talking, (even when I use the Motorola H700 Bluetooth headset), photos taken on a regular megapixel camera phone are better than the 1.3 provided here, can't listen to MP3 thru bluetooth, photos stored on phone often become corrupted for no reason at all, all photos disappear occassionally and I have to turn phone off and back on, too bulky and heavy, battery at times drains after only an hour even without any use, reception very poor and often have to stand in wide open areas.\n",
      "This phone is nice, dainty, and has a great display, but it ends there:*) The speaker isn't loud enough, so you're always pressing the phone to your ear so incredibly hard and still can't hear too well - I called T-Mobile, they acknowledged the problem and sent instructions to the phone to increase the speaker volume to no avail.*) The slider is hard to get to quickly - if you try sliding the phone open, many times you will actually reject a call.*) Using call waiting isn't too bad - when you go to call waiting it is easy, but retrieving a call is painful*) Text messages - this is the worst ever - first, slide the phone open, create a message, hit the enter key, then recent log, then select your recipients, then next then enter then the message sends.\n",
      "ordered 2 of these a couple of weeks ago, got them in decent time put them in phone and charged them, neither battery lasted more than 48hrs MAX with less than 10 mins talk time.Sent email to company they were nice and sent 2 more batteries plus a return envelope to send first two back with, put in the next ones, charged and same thing within 48hrs both batteries dead with virtually zero talk time on them.Sending all 4 back.Im guessing you basically get what you pay for.\n",
      "this bluetooth headset is probably one of the worst you can ever waste money on.For some odd reason all of my motorola bluetooth, including this one has really really bad static.I cannot clearly hear the other person and the other person cannot hear me.I would save my money and buy a different brand altogether.Motorola H700 Bluetooth Headset I saw the reviews for this headset on CNET, and I was pretty excited about getting it to use with my LG VX-9400 phone.\n",
      "I'd like to say I was satisfied with this device, but I'm not, the ATT version for whatever reason was just SOOO much better than this phone on TracFone, and it was basically the same phone.Just a stupid phone!!!THE ATT VERSION IS GOOD, BUT THIS IS A NO GOOD PHONE!!Hello guys, up for reviews today is a phone I once used for tracfone the motorola c139.1st phone, it worked good, i was in the bathroom flushed the toilet and down went the phone, of course it was dead after this and it was gone to the sewer.2nd phone.\n",
      "got the screen to change colors and call different people from her contacts, tried drying and then it stopped even working as even a phone, it would go to the tracfone turn on screen reset itself and do it again until you did something like press a button itd go off, or the battery would die.it still mysteriously charged, so it was used for a moto charger, or planned to if i found a phone with the same battery and then all now i get was a lit up keypad.\n",
      "Phone Experience:Its light and sleek and does perform very well as basic phone, charge every 2 days not 2 times a day as I use to do with smartphone.This phone's interfaces are so old that looks like I am using those old bulky Nokia phones specially switching from smart-phone.\n",
      "Next, they charged me $15 because I ported my old number, in past I received this service free with T-Mobile and Cingular.Customer service is not friendly at all.Amazon Experience:The sad part of my story starts when I received this phone.I opened the box and it looked like used phone, with dust inside plastic protector and edges coming off and scratches where Mini-SD card goes.\n",
      "I bought two, but they sent three; took 4 weeks to get in mail, as they'd warned when purchasing; wrapped up to look like OEM, but I'm thinking it's a fake; people selling it certainly haven't responded to my complaints;  works no longer than my 4 and 6 year old OEM batteries scavenged from other folks dead Moto V3 RAZRs.\n",
      "New one continues to work but- person on the other side cannot hear correctly- lots of static like noises even when fully chargedFor the excellent customer service, I should give 5 stars to Motorola and 1 (or 0) star to this particular product.Update: After this, I tried Plantronics voyager 510 as a BT earpiece.\n",
      "It doesn't work and it's a waste of money.I recommend buying a wired antenna that directly connects to your phone.\n",
      "If you phone doesn't have such a connection, then you may want to look into a different phone because nothing without a direct connection is going to work, and you may want to look into a phone that gets better reception (there are some -- just read the 3rd party reviews).I wouldn't recommend this product to anyone unless you just have money to burn.\n",
      "the day it came i plugged it in the car and to my phone and it worked great for a few min.\n",
      "Product stopped working after only 4 months.Amazon referred me to Motorola for the 1 year manufacturer warranty.After calling Motorola 6 different times (of course an India call center) and even more emails (all not responded to) I was told that the product is out of stock and they tried to send me a wall charger as a replacement .\n",
      "I found this headset very comfortable, with excellent audio quality, the few times it successfully connected to my Nokia phones.After working with BlueAnt tech support and trying it on two different phones, they admitted that they have a known issue with Symbian OS phones (most Nokia and some other smartphones) where the headset can be \"paired\" with the phone, but it does not connect reliably for incoming or outgoing calls.\n",
      "I would've kept it but was bothering me when driving and I need to turn my head left and right.Also I noticed that it didn't work pretty good while paired with two mobile phones simultaneously.It is pretty small and it feels extremely comfortable, I wish it would've worked properly.\n",
      "This means you cannot use any of the zillions of standard usb cables/connectors you(i) have lying aroundI would have returned this immediately, except that only \"non-opened\" items can be returned.Choose some other product, this one certainly does not work Worked great with iphone3 and NZ-409 but does not work with iphone4...\n",
      "In both cases, the red LED lit up, so it cant be a fuse issue, but neither phones indicated that it was receiving a charge when these chargers were connected.The third one does work, but only intermittently.\n",
      "However, if I pull out the cord almost all of the way, it seems to make the connection and charge the phone.I know I could probably return these, but for how cheap they are, its not worth the hassle to package them up and pay for return shipping.\n",
      "You could pull the cable out slightly and get both channels (sides), but if your gizmo (phone, tablet, mp3 player) moves the slightest then it stops working on both sides.The other bad thing is the static it creates when in use (aux or headphones).The item is junk and I would avoid unless you like throwing away money.\n",
      "This looked like an interesting and relatively low-cost option for my wife's car/cell phone, since she hasn't found a bluetooth headset that fits her ear comfortably.\n",
      "I tried the car charger, it works but can not play and charge at the same time.\n",
      "I really wanted this to work but it never charged my phone for more than 2 minutes.\n",
      "The product works just as advertised, charging my iPhone to full a few times on one charge.\n",
      "There are good products which will fit a large phone (iphone4 with Mophie Juice.) It looks like top button is exposed in pics.\n",
      "If this fit my phone it would've been the best product ever because the quality of this thing is very good.Seller, if you're reading this, I deserve a real 8350i Blackberry Curve screen protector.Thanks.\n",
      "The cord only worked for about a week before it randomly stopped being able to charge my phone lol dont waste ur money, it takes like a month for shipping I will never buy another cord from any of the sellers...they break or just don't work from the start.\n",
      "Don't even work I hate this product it stop workin after 10mins ill never buy from this company again worst money spent its dont cost a lot for a good reason cause it beyond cheap It.s hard to rate it because I have not got it yet and I do not know what the hangup is I payed my bill but no cable yet.\n",
      "Then I stopped working and would not charge my phone.\n",
      "it is work at the first 30 days,I brought two, one of it was broken, the line disconnect after 20daysthe other one works ok in the first couple times,after 30 days it still looks prefect, but suddenly when I plug into the pc, nothing shows up, and it became not working1 dollar for 20 days, it depends on how u thinkI will never buy it, cause it might not work suddenly when u really need to charge ur iphonethos was my previous reviewFvery nice price, works very well.I buy two more after I got it.\n",
      "I actually cut off a small part of the broken band near where it snapped because I have a thin face and wanted a slightly tighter/snugger fit - and that's what I've got now.The headphones are still uncomfortable to wear for more than an hour or so as others have said as they dig into the ears, but I do like them for the gym and around the home as a bluetooth headset for voice calls with my phone.\n",
      "I am going to return phone it will not stay charged for more than an hour, that's the only problem so far but unable to use for extended time to see if there are any other issues.\n",
      "Do your self a favor and skip it i honestly didnt notice that my phone was charging faster....seems to me like its jus a regular phone charger...says motorolla but i dont know, could be a fakey rip off...its workin just like a regular charger, not impressed This product did not work out of the box.\n",
      "Don't waste your money on these because if they do work when u get them, they will quickly break and/or mess up your phone if u try to use it while it's plugged in.\n",
      "(This can be deactivated but likes to come back on)It sucks.In case I wasn't clear, I would NOT recommend this product to anyone.I hope you find this review useful as I too read these reviews myself when I am about to purchase products, like the new Bluetooth headset I am going to buy now.\n",
      "Whatever case you end up getting, get a high quality screen protector...As far as this case goes, I'm looking to replace it with something very lean so I can still put the phone in the DLO...as you can see, I like a few layers of protection for my beloved iphone!\n",
      "If product worked as advertised, I should have been able to charge at least 2.3 times, assuming my Li-ion phone battery is at the poor end of the charging-efficiency spectrum.\n",
      "Furthermore, I had to open the battery case then disconnect in order for the phone to work again!\n",
      "Well at first it did work like for the 1st try then it got bad didn't work at all I bought for nothing don't even buy it...: We had ordered this for Our daughter for her phone.\n",
      "Shame on you Amazon for not having a better quality controlover the products that you list or the vendors you do business with.If you want to waste your time and money buy this product.Thanks DEFECTUOSO DEFECTUOSO  DEFECTUOSO DEFECTUOSO DEFECTUOSO DEFECTUOSO DEFECTUOSO DEFECTUOSO  DEFECTUOSO DEFECTUOSO DEFECTUOSO DEFECTUOSO  DEFECTUOSO DEFECTUOSO DEFECTUOSO DEFECTUOSO DEFECTUOSO DEFECTUOSO DEFECTUOSO DEFECTUOSO ,,,,,,,,,,,,,,,,,,,,,,,, ,,,,,,,,,,,,,,,,,,,,,,,,,,,, ,,,,,,,,,,,,,,,,,,,,,,,,,,, ,,,,,,,,,,,,,,,,,,,,,,,,,,, ,,,,,,,,,,,,,,,,,,,,,,,,,  ,  ,  ,,,,,,,,,,,,,,,,,,,,,,,,,,,,,,,, this is a great phone but as to this date the display blanked out and won't come back on as im in the caribbean a return is not an option so your product suck By pass this thing and get an iPhone!Freezes frequently and requires a reset.Little ball thingy you use to navigate is a joke.Small screen.Fails to connect to WiFi hotspots too many times.Teeny tiny keys.Update software from RIM is a farce.\n",
      "I anxiously awaited this phone for a couple months, the day finally came and the phone arrived and what a disappointment it was!I spent about a week trying to \"get used\" to the feel of the phone, i really gave it every effort but the phone just didn't work the way it should have.\n",
      "I know there have been software releases to make the phone work the way it was intended but I just didn't have the time to invest in it.I'll make this short and to the point, if you're a business/power email user then this phone will cramp your style, try it out for a week or two and you will see.\n",
      "Gave up when I got a tablet (see my review for Motorola Xoom) and realized Bluetooth works great to transfer phone's photos.\n",
      "I wanted to be able to charge my phone and use my radar detector simultaneously, it worked great for almost a month and then all of the sudden it stopped.\n",
      "With the phone in the case, the charge cord cannot be connected, or at least we can't get any of the multiple chargers we own to work (we own 11 I Phones).\n",
      "It worked for a couple months then just up and stopped charging my phone.\n",
      "It is a piece of junk I had I known it I would NOT had purchased!KarlaC Gave it to girlfriend to use on her blackberry phone, she said it got hot and it stopped working.\n",
      "I honestly have to say this product had no quality it only lasted a week and one of the ear jacks already broke not to mention that they really don't stay too well in your ears in the first place I have owned now 2 BB brand headsets and both failed (one side stops working).\n",
      "More so, when plugged in, the phone starts auto-dialing last dialed numbered.I spent quite a lot of time trying to understand how I can make it work.\n",
      "Your phone won't recognize the after market headphones that is plugged into it, unless you buy the \"Sound Route Switcher\" on the app market.Overall, it works great for roadtrips but, not good for taking on a walk or jogging.\n",
      "If you just need a headset (earpiece) for calls (no music) and can live without voice recognition, this can be a good buy.Update and why I changed this review from three to one star: Product was ok while it worked but item's internal battery stopped holding a charge after less than a year.\n",
      "Cable didn't work when I got it - pinching the correct spot on the phone end seemed to make it work, but it was obviously internally defective.Seller immediately refunded me.\n",
      "I sent for charging cords from three different places hoping that one would work for my Samsung SII phone.\n",
      "I ordered 4 cables and every serial numbers are the same.It's a really faked one and may break your phone.The pin is too tight and if you use this too long time, your phone's usb jack would not fit to any other genuine Samsung USB cable.Shame on Hongkong!I'm going to claim now!Update 5/4/12: Got an email from seller and they refunded full amount but I keep the one star review because of faked one (useless).\n",
      "I got it to replace my charger cable but thos cable is a waste of money, in order to charge my phone it has to be at a certain angle, I tried it in my wife's phone and it has to be wiggle to find the right angle in witch it will charge the phone.\n",
      "Put the original phone charge cable into the charger and it worked fine so I knew it was the cable and not the charger.\n",
      "I rarely use my phone during the day while I'm at work.\n",
      "I bought this for my phone and it didn't even work.\n",
      "(And thus, if you plan to use your iPhone with all kinds of docks and docking accessories, this is not the case for you.)This thing is clearly intended for people in good coverage areas who use the iPhone mostly on the go, don't have a ready pile of iPhone accessories that require docking, and need a nice cover and a boost in operation time.The only reasons I give it four stars rather than five: I have no idea how long the battery's lifetime will be; a lot of lesser rechargeable batteries tend to wear out after 20-30 cycles, which I haven't yet gotten to on the Mophie, and also, the micro USB cable that comes with it is TOO DAMNED SHORT (like, a foot and a half, literally) and I had to buy a USB extension cable.\n",
      "I knew about the issues ahead of time so my expectations were set accordingly.What works:The form factor is great - it makes the iPhone chunky but guess what - it actually feels better this way and is easier to hold when in use!\n",
      "Irritating but not a dealbreaker.Reception - I haven't noticed the big drop in signal strength others have reported - might be a slight reduction but nothing that has given me any trouble (yet?)MicroUSB connector - people have complained that the connector breaks inside the phone after continued use - I haven't had any problems yet but I'm keeping an eye open for this.Price - it's pricy but if your iPhone is a primary tool for you then you'll appreciate the convenience and the investment will be worth it.Best illustrations of how it has saved me already -1) Business call that went much longer than planned, battery was down to 7% - flicked the charger switch mid-call and I was good to go for the rest of the call (and day).2) Writing this review in Starbucks - 20% battery warning just came up but I don't care - it's just time to get the Mophie going.Overall this has completely solved my battery anxiety and made my iPhone a dependable device all day - highly recommended.I just confirmed that Blackberry Micro USB data cables work fine with the Mophie (they charge and sync) and can be purchased very cheaply from Amazon.\n",
      "No wonder the price was so low, this battery pack is so bad that with the iphone battery fully charged and this pack fully charged, I cannot get not even 5 hours of use out of the phoneI noticed it from the beginning I should have returned this item right away.The newtrent I used to have outlast this one here by far I bought this originally for the outrageous price of $90, but thought it would be worth it if it got me through a full day of heavy use on my iPhone.\n",
      "It extends the life of my iPhone battery for an hour or two but doesn't charge the phone, and it doesn't seem to work if my phone battery drops too low.\n",
      "Any latest phone)I understand that you dont expect them to do good as Bose in 30 bucks, but jWin comes in same price, but gives better quality.I think Motorola can never do good in this music earphones thing.With Sony phone (& sometime with iPhone too), the quality was too bad.Sound was like was being interrupted every few seconds.Come on, we are in 2010.\n",
      "\n"
     ]
    }
   ],
   "source": [
    "# Print the summaries\n",
    "print(\"Summary of rating-1.0 reviews (1% of the original word count):\")\n",
    "print(summaryFor1)\n",
    "print()"
   ]
  },
  {
   "cell_type": "markdown",
   "id": "FaQqhPsND0CC",
   "metadata": {
    "id": "FaQqhPsND0CC"
   },
   "source": [
    "The given code defines a function called wordCount that takes a string parameter which we have named as summarize. This function calculates the number of words in the provided string by using the Spacy library's tokenizer. It then returns the word count of the string.\n",
    "\n",
    "1. Loading the English Language Model:\n",
    "The code uses the spacy.load() function to load the English language model named \"en_core_web_sm\". This model provides language processing capabilities, including tokenization, part-of-speech tagging, and entity recognition.\n",
    "\n",
    "2. Processing the Summary:\n",
    "The code applies the loaded language model to the summarize string which is the parameter of our function by calling spc(summarize). This processes the summary using the Spacy tokenizer, which breaks the text into individual words and other tokens.\n",
    "\n",
    "3. Counting the Number of Words:\n",
    "The code uses a list comprehension to iterate over each token in sum5, which is the processed summary. It checks if the token is not a space character (token.is_space). If the token is not a space, it is considered a word, and it is included in the list comprehension. The length of this list is then calculated using len() to determine the word count.\n",
    "\n",
    "After executing this code, the number of words in the summaryFor5 summary will be displayed, along with the summary itself."
   ]
  },
  {
   "cell_type": "code",
   "execution_count": 52,
   "id": "b13e1b2a",
   "metadata": {
    "id": "b13e1b2a",
    "outputId": "ccf52d55-79bc-4e98-c53b-cf2a6f607bd1"
   },
   "outputs": [
    {
     "name": "stdout",
     "output_type": "stream",
     "text": [
      "Number of words in the file: 428\n",
      "\n",
      "\n",
      "Summary of rating-5.0 reviews (approximately 300 words):\n",
      "Once we got the phones I called back to check and yes the person from Cingular had done everything as asked, I also checked from the phone itself as you can go to \"My Account\" from the Main Menu page and phone goes online and checks everything about your account, how many minutes, the plan, when the next bill is due, etc etc, and sure enough everything was as it was supposed to be.As far as signal strength it is excellent in my area, I can go all through our house upstairs and downstairs and it stays between 4-5 bars, I don't recall seeing less than 3 bars all around town so far, the phone gets a great signal, and Cingular \"in my area\" puts out a great signal.My wife just came back from a business trip, she was about 150 miles away \"With NO ROAMING charges\" btw our last cell phone service \"Alltel\" would have been roaming within 20 miles.Anyway when she got to the hotel she called we both had perfect signal strength, we both put phone in \"Speaker Phone\" mode and she just laid the phone in closed position on the night stand while she unpacked her suitcases, I put mine on my night stand and we talked for about an hour with no problems at all, and it was a FREE call \"Mobile to Mobile\".We sent a couple text messages to each other that worked no problem.She used the phone as her Alarm clock the next morning which worked perfectly.Now as for what 1-2 reviewers have said about the battery life, most likely they have gotten one of those 1-2 out of 1000.I've had phone 12 days have charged it 3 times and have never let it go to the point where is says it \"needs\" charging, so average 4 days per charge and just like the manual states it appears as though battery life is getting a bit better after a few charges, So I'm easily going to get 3-5 days per charge, and that's with a lot of fiddling around with it because it's new and 1-2 hours talk time.Some one mentioned they dropped the phone on its hinge and it broke.\n"
     ]
    }
   ],
   "source": [
    "def wordCount(summarize):\n",
    "    # Load the English language model\n",
    "    spc = spacy.load(\"en_core_web_sm\")\n",
    "\n",
    "    # Process the code using the Spacy tokenizer\n",
    "    sum5 = spc(summarize)\n",
    "\n",
    "    # Count the number of words\n",
    "    wordCount = len([token for token in sum5 if not token.is_space])\n",
    "\n",
    "    return wordCount\n",
    "\n",
    "words = wordCount(summaryFor5)\n",
    "print(\"Number of words in the file:\", words)\n",
    "print(\"\\n\\nSummary of rating-5.0 reviews (approximately 300 words):\")\n",
    "print(summaryFor5)"
   ]
  },
  {
   "cell_type": "code",
   "execution_count": null,
   "id": "f76f9aec",
   "metadata": {},
   "outputs": [],
   "source": []
  }
 ],
 "metadata": {
  "colab": {
   "provenance": []
  },
  "kernelspec": {
   "display_name": "Python 3 (ipykernel)",
   "language": "python",
   "name": "python3"
  },
  "language_info": {
   "codemirror_mode": {
    "name": "ipython",
    "version": 3
   },
   "file_extension": ".py",
   "mimetype": "text/x-python",
   "name": "python",
   "nbconvert_exporter": "python",
   "pygments_lexer": "ipython3",
   "version": "3.9.13"
  }
 },
 "nbformat": 4,
 "nbformat_minor": 5
}
